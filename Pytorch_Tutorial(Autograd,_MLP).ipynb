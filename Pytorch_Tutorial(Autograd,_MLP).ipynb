{
  "nbformat": 4,
  "nbformat_minor": 0,
  "metadata": {
    "colab": {
      "name": "Pytorch Tutorial(Autograd, MLP)",
      "provenance": [],
      "collapsed_sections": [],
      "authorship_tag": "ABX9TyOyO7n6coMB/95CJLBFoIvQ"
    },
    "kernelspec": {
      "name": "python3",
      "display_name": "Python 3"
    },
    "language_info": {
      "name": "python"
    }
  },
  "cells": [
    {
      "cell_type": "markdown",
      "source": [
        "### Pytorch Tutorial - Autograd & MLP(Multi-layer perceptron)"
      ],
      "metadata": {
        "id": "2lAWyxo4L_9s"
      }
    },
    {
      "cell_type": "markdown",
      "source": [
        "### Autograd\n",
        "* autograd 패키지는 텐서의 모든 연산에 대한 자동 미분 제공\n",
        "* 실행-기반-정의(define-by-run) 프레임워크로, 코드를 어떻게 작성하여 실행하느냐에 따라 역전파가 정의된다는 것을 의미\n",
        "* 역전파는 학습 과정의 매 단계마다 달라짐"
      ],
      "metadata": {
        "id": "X6mLZRlyMRR6"
      }
    },
    {
      "cell_type": "markdown",
      "source": [
        "### Tensor\n",
        "* torch.Tensor 클래스의 .requires_grad속성을 True로 설정하면 해당 텐서에서 이루어진 모든 연산 추적(track)하기 시작\n",
        "\n",
        "* 계산이 완료된 후 .backward()를 호출하여 모든 변화도(gradient)를 자동으로 계산할 수 있으며 이 Tensor의 변화도(gradient)는 .grad 속성에 누적됨\n",
        "\n",
        "* Tensor가 기록을 추적하는 것을 중단하게 하려면 .detach()를 호출하여 연산기록으로부터 분리하여 연산이 추적되는 것을 방지할 수 있음\n",
        "\n",
        "* 기록을 추적하는 것(과 메모리를 사용하는 것)을 방지하기 위해서 코드 블랙을 with.torch.no_grad() : 로 코드를 감쌀 수 있음\n",
        "\n",
        "* 이는 변화도(gradient)는 필요없지만 requires_grad=True가 설정되어 학습 가능한 매개변수를 갖는 모델을 평가(evaluate)할 때 유용\n",
        "\n",
        "* Autograd 구현에서 Function 클래스는 매우 중요한 역할을 수행\n",
        "\n",
        "* Tensor와 Function은 서로 연결되어 있고 모든 연산과정을 부호화하여 순환하지 않는 그래프 생성\n",
        "\n",
        "* 각 Tensor는 .grad_fn속성을 가지고 있는데 이는 Tensor를 생성한 Function을 참조함(단, 사용자가 만든 Tensor는 예외이며, 사용자가 만든 Tensor가 아닌 연산에 의해 생긴 텐서와 같은 경우는 모두 Function을 참조)\n",
        "* 도함수를 계산하기 위해서는 Tensor의 .backward()를 호출하면 됨"
      ],
      "metadata": {
        "id": "DLLS5yJsNY3v"
      }
    },
    {
      "cell_type": "code",
      "execution_count": 1,
      "metadata": {
        "colab": {
          "base_uri": "https://localhost:8080/"
        },
        "id": "WA4RLDq4L_AZ",
        "outputId": "a62c49bb-0fb0-47ae-e1de-0b77e3bb81ea"
      },
      "outputs": [
        {
          "output_type": "stream",
          "name": "stdout",
          "text": [
            "1.12.1+cu113\n"
          ]
        }
      ],
      "source": [
        "import torch\n",
        "\n",
        "print(torch.__version__)"
      ]
    },
    {
      "cell_type": "code",
      "source": [
        "# x의 연산 과적을 추적하기 위해 requires_grad=True로 설정\n",
        "x = torch.ones(2, 2, requires_grad=True)\n",
        "print(x)\n",
        "\n",
        "# 직접 생선한 Tensor이기 때문에 grad_fn이 None인 것을 확인할 수 있음\n",
        "print(x.grad_fn)"
      ],
      "metadata": {
        "colab": {
          "base_uri": "https://localhost:8080/"
        },
        "id": "IQFIOBXyP_o2",
        "outputId": "c577f44a-dab0-4951-9dc4-c0d6aa31a809"
      },
      "execution_count": 2,
      "outputs": [
        {
          "output_type": "stream",
          "name": "stdout",
          "text": [
            "tensor([[1., 1.],\n",
            "        [1., 1.]], requires_grad=True)\n",
            "None\n"
          ]
        }
      ]
    },
    {
      "cell_type": "code",
      "source": [
        "# y는 연산의 결과로 생성된 것이기 때문에 grad_fn을 갖고 있는 것을 확인 가능\n",
        "y = x + 2\n",
        "y.retain_grad()\n",
        "print(y)"
      ],
      "metadata": {
        "colab": {
          "base_uri": "https://localhost:8080/"
        },
        "id": "5INyj9P3QOFk",
        "outputId": "950a1758-a87b-4196-e493-452ffd2c6fd8"
      },
      "execution_count": 3,
      "outputs": [
        {
          "output_type": "stream",
          "name": "stdout",
          "text": [
            "tensor([[3., 3.],\n",
            "        [3., 3.]], grad_fn=<AddBackward0>)\n"
          ]
        }
      ]
    },
    {
      "cell_type": "code",
      "source": [
        "# 연산의 결과로 생성된 것이기 때문에 grad_fn을 갖고 있는 것을 확인 가능\n",
        "print(y.grad_fn)"
      ],
      "metadata": {
        "colab": {
          "base_uri": "https://localhost:8080/"
        },
        "id": "94jGhd49QNp0",
        "outputId": "883be90f-b5f9-43f6-b55d-36441240fa37"
      },
      "execution_count": 4,
      "outputs": [
        {
          "output_type": "stream",
          "name": "stdout",
          "text": [
            "<AddBackward0 object at 0x7f85f29a1ad0>\n"
          ]
        }
      ]
    },
    {
      "cell_type": "code",
      "source": [
        "z = y * y * 3\n",
        "out = z.mean()\n",
        "\n",
        "# 각각 사용한 func에 맞게 grad_fn이 생성된 것을 확인할 수 있음\n",
        "print(z)\n",
        "print(out)"
      ],
      "metadata": {
        "colab": {
          "base_uri": "https://localhost:8080/"
        },
        "id": "xEwNbmZWQNY8",
        "outputId": "a8ac63b1-afeb-4a50-bffd-d24527d1d858"
      },
      "execution_count": 5,
      "outputs": [
        {
          "output_type": "stream",
          "name": "stdout",
          "text": [
            "tensor([[27., 27.],\n",
            "        [27., 27.]], grad_fn=<MulBackward0>)\n",
            "tensor(27., grad_fn=<MeanBackward0>)\n"
          ]
        }
      ]
    },
    {
      "cell_type": "markdown",
      "source": [
        "* requires_grad_() 를 사용하면 기존 Tensor의 requires_grad 값을 바꿀 수 있음\n",
        "* 입력 값이 지정되지 않으면 기본 값은 False"
      ],
      "metadata": {
        "id": "tx6DxlLkThIu"
      }
    },
    {
      "cell_type": "code",
      "source": [
        "a = torch.randn(2, 2)\n",
        "print(a)"
      ],
      "metadata": {
        "colab": {
          "base_uri": "https://localhost:8080/"
        },
        "id": "XBDqaJXKT0Qr",
        "outputId": "7439684b-92de-4a7d-e514-7d13c5ee6c97"
      },
      "execution_count": 6,
      "outputs": [
        {
          "output_type": "stream",
          "name": "stdout",
          "text": [
            "tensor([[-0.8180,  1.3340],\n",
            "        [-0.0598, -1.6139]])\n"
          ]
        }
      ]
    },
    {
      "cell_type": "code",
      "source": [
        "a = ((a * 3) / (a - 1))\n",
        "print(a)\n",
        "print(a.requires_grad)"
      ],
      "metadata": {
        "colab": {
          "base_uri": "https://localhost:8080/"
        },
        "id": "wBTrPiHST59O",
        "outputId": "68453ec6-3323-4722-e466-86d6e7c47409"
      },
      "execution_count": 7,
      "outputs": [
        {
          "output_type": "stream",
          "name": "stdout",
          "text": [
            "tensor([[ 1.3498, 11.9813],\n",
            "        [ 0.1694,  1.8523]])\n",
            "False\n"
          ]
        }
      ]
    },
    {
      "cell_type": "code",
      "source": [
        "a.requires_grad_(True)"
      ],
      "metadata": {
        "colab": {
          "base_uri": "https://localhost:8080/"
        },
        "id": "A-_sf4PaUWB0",
        "outputId": "0792cf27-0c56-4bf5-edaa-ce988c989fcd"
      },
      "execution_count": 8,
      "outputs": [
        {
          "output_type": "execute_result",
          "data": {
            "text/plain": [
              "tensor([[ 1.3498, 11.9813],\n",
              "        [ 0.1694,  1.8523]], requires_grad=True)"
            ]
          },
          "metadata": {},
          "execution_count": 8
        }
      ]
    },
    {
      "cell_type": "code",
      "source": [
        "print(a.requires_grad)"
      ],
      "metadata": {
        "colab": {
          "base_uri": "https://localhost:8080/"
        },
        "id": "1EQ9qThEUcfm",
        "outputId": "27492c5d-c223-4f63-ad22-1026b231b0a4"
      },
      "execution_count": 9,
      "outputs": [
        {
          "output_type": "stream",
          "name": "stdout",
          "text": [
            "True\n"
          ]
        }
      ]
    },
    {
      "cell_type": "code",
      "source": [
        "b = (a * a).sum()\n",
        "print(b)\n",
        "print(b.requires_grad)"
      ],
      "metadata": {
        "colab": {
          "base_uri": "https://localhost:8080/"
        },
        "id": "eLyJ-Qx1UjYW",
        "outputId": "77c696db-1c1c-4dac-ff61-bf026591c24f"
      },
      "execution_count": 10,
      "outputs": [
        {
          "output_type": "stream",
          "name": "stdout",
          "text": [
            "tensor(148.8320, grad_fn=<SumBackward0>)\n",
            "True\n"
          ]
        }
      ]
    },
    {
      "cell_type": "markdown",
      "source": [
        "### 변화도(Gradient)"
      ],
      "metadata": {
        "id": "uCFWhGx8UpEW"
      }
    },
    {
      "cell_type": "code",
      "source": [
        "print(out)\n",
        "\n",
        "# 이전에 만든 out을 사용해서 역전파 진행\n",
        "\n",
        "y.retain_grad()     # 중간 값에 대한 미분값을 보고싶다면 해당 값에 대한 retain_grad()호출해야함\n",
        "z.retain_grad()\n",
        "out.backward()      #여러 번 미분을 진행하기 위해서는 retain_graph=True로 설정해줘야함(그렇지 않으면 아래처럼 에러 발생)\n",
        "\n",
        "# out.backward(torch.tensor(1.))을 진행하는 것과 동일\n",
        "print(x.grad)\n",
        "print(y.grad)\n",
        "print(z.grad)\n",
        "print(x.is_leaf)\n",
        "\n",
        "out.backward()\n",
        "print(x.grad)\n",
        "print(y.grad)"
      ],
      "metadata": {
        "colab": {
          "base_uri": "https://localhost:8080/",
          "height": 566
        },
        "id": "Q0tT4qwTUuOX",
        "outputId": "2cd48418-389e-411b-a21d-15041e8ab75c"
      },
      "execution_count": 11,
      "outputs": [
        {
          "output_type": "stream",
          "name": "stdout",
          "text": [
            "tensor(27., grad_fn=<MeanBackward0>)\n",
            "tensor([[4.5000, 4.5000],\n",
            "        [4.5000, 4.5000]])\n",
            "tensor([[4.5000, 4.5000],\n",
            "        [4.5000, 4.5000]])\n",
            "tensor([[0.2500, 0.2500],\n",
            "        [0.2500, 0.2500]])\n",
            "True\n"
          ]
        },
        {
          "output_type": "error",
          "ename": "RuntimeError",
          "evalue": "ignored",
          "traceback": [
            "\u001b[0;31m---------------------------------------------------------------------------\u001b[0m",
            "\u001b[0;31mRuntimeError\u001b[0m                              Traceback (most recent call last)",
            "\u001b[0;32m<ipython-input-11-e42f69688dc3>\u001b[0m in \u001b[0;36m<module>\u001b[0;34m\u001b[0m\n\u001b[1;32m     13\u001b[0m \u001b[0mprint\u001b[0m\u001b[0;34m(\u001b[0m\u001b[0mx\u001b[0m\u001b[0;34m.\u001b[0m\u001b[0mis_leaf\u001b[0m\u001b[0;34m)\u001b[0m\u001b[0;34m\u001b[0m\u001b[0;34m\u001b[0m\u001b[0m\n\u001b[1;32m     14\u001b[0m \u001b[0;34m\u001b[0m\u001b[0m\n\u001b[0;32m---> 15\u001b[0;31m \u001b[0mout\u001b[0m\u001b[0;34m.\u001b[0m\u001b[0mbackward\u001b[0m\u001b[0;34m(\u001b[0m\u001b[0;34m)\u001b[0m\u001b[0;34m\u001b[0m\u001b[0;34m\u001b[0m\u001b[0m\n\u001b[0m\u001b[1;32m     16\u001b[0m \u001b[0mprint\u001b[0m\u001b[0;34m(\u001b[0m\u001b[0mx\u001b[0m\u001b[0;34m.\u001b[0m\u001b[0mgrad\u001b[0m\u001b[0;34m)\u001b[0m\u001b[0;34m\u001b[0m\u001b[0;34m\u001b[0m\u001b[0m\n\u001b[1;32m     17\u001b[0m \u001b[0mprint\u001b[0m\u001b[0;34m(\u001b[0m\u001b[0my\u001b[0m\u001b[0;34m.\u001b[0m\u001b[0mgrad\u001b[0m\u001b[0;34m)\u001b[0m\u001b[0;34m\u001b[0m\u001b[0;34m\u001b[0m\u001b[0m\n",
            "\u001b[0;32m/usr/local/lib/python3.7/dist-packages/torch/_tensor.py\u001b[0m in \u001b[0;36mbackward\u001b[0;34m(self, gradient, retain_graph, create_graph, inputs)\u001b[0m\n\u001b[1;32m    394\u001b[0m                 \u001b[0mcreate_graph\u001b[0m\u001b[0;34m=\u001b[0m\u001b[0mcreate_graph\u001b[0m\u001b[0;34m,\u001b[0m\u001b[0;34m\u001b[0m\u001b[0;34m\u001b[0m\u001b[0m\n\u001b[1;32m    395\u001b[0m                 inputs=inputs)\n\u001b[0;32m--> 396\u001b[0;31m         \u001b[0mtorch\u001b[0m\u001b[0;34m.\u001b[0m\u001b[0mautograd\u001b[0m\u001b[0;34m.\u001b[0m\u001b[0mbackward\u001b[0m\u001b[0;34m(\u001b[0m\u001b[0mself\u001b[0m\u001b[0;34m,\u001b[0m \u001b[0mgradient\u001b[0m\u001b[0;34m,\u001b[0m \u001b[0mretain_graph\u001b[0m\u001b[0;34m,\u001b[0m \u001b[0mcreate_graph\u001b[0m\u001b[0;34m,\u001b[0m \u001b[0minputs\u001b[0m\u001b[0;34m=\u001b[0m\u001b[0minputs\u001b[0m\u001b[0;34m)\u001b[0m\u001b[0;34m\u001b[0m\u001b[0;34m\u001b[0m\u001b[0m\n\u001b[0m\u001b[1;32m    397\u001b[0m \u001b[0;34m\u001b[0m\u001b[0m\n\u001b[1;32m    398\u001b[0m     \u001b[0;32mdef\u001b[0m \u001b[0mregister_hook\u001b[0m\u001b[0;34m(\u001b[0m\u001b[0mself\u001b[0m\u001b[0;34m,\u001b[0m \u001b[0mhook\u001b[0m\u001b[0;34m)\u001b[0m\u001b[0;34m:\u001b[0m\u001b[0;34m\u001b[0m\u001b[0;34m\u001b[0m\u001b[0m\n",
            "\u001b[0;32m/usr/local/lib/python3.7/dist-packages/torch/autograd/__init__.py\u001b[0m in \u001b[0;36mbackward\u001b[0;34m(tensors, grad_tensors, retain_graph, create_graph, grad_variables, inputs)\u001b[0m\n\u001b[1;32m    173\u001b[0m     Variable._execution_engine.run_backward(  # Calls into the C++ engine to run the backward pass\n\u001b[1;32m    174\u001b[0m         \u001b[0mtensors\u001b[0m\u001b[0;34m,\u001b[0m \u001b[0mgrad_tensors_\u001b[0m\u001b[0;34m,\u001b[0m \u001b[0mretain_graph\u001b[0m\u001b[0;34m,\u001b[0m \u001b[0mcreate_graph\u001b[0m\u001b[0;34m,\u001b[0m \u001b[0minputs\u001b[0m\u001b[0;34m,\u001b[0m\u001b[0;34m\u001b[0m\u001b[0;34m\u001b[0m\u001b[0m\n\u001b[0;32m--> 175\u001b[0;31m         allow_unreachable=True, accumulate_grad=True)  # Calls into the C++ engine to run the backward pass\n\u001b[0m\u001b[1;32m    176\u001b[0m \u001b[0;34m\u001b[0m\u001b[0m\n\u001b[1;32m    177\u001b[0m def grad(\n",
            "\u001b[0;31mRuntimeError\u001b[0m: Trying to backward through the graph a second time (or directly access saved tensors after they have already been freed). Saved intermediate values of the graph are freed when you call .backward() or autograd.grad(). Specify retain_graph=True if you need to backward through the graph a second time or if you need to access saved tensors after calling backward."
          ]
        }
      ]
    },
    {
      "cell_type": "code",
      "source": [
        "x = torch.ones(2, 2, requires_grad=True)\n",
        "y = x + 2\n",
        "z = y * y * 3\n",
        "out = z.mean()\n",
        "\n",
        "print(out)\n",
        "\n",
        "y.retain_grad()\n",
        "out.backward(retain_graph=True)\n",
        "\n",
        "print(x.grad)\n",
        "print(y.grad)\n",
        "print(z.grad)     # z.retain_grad()를 호출하지 않으면 grad값을 저장하지 않기 때문에 grad 속성을 볼 수 없음\n",
        "print(x.is_leaf)\n",
        "\n",
        "out.backward()\n",
        "print(x.grad)\n",
        "print(y.grad)"
      ],
      "metadata": {
        "colab": {
          "base_uri": "https://localhost:8080/"
        },
        "id": "fNBEUUpnXaiy",
        "outputId": "196932c6-3adf-4fa7-9a4f-1655c257b17c"
      },
      "execution_count": 12,
      "outputs": [
        {
          "output_type": "stream",
          "name": "stdout",
          "text": [
            "tensor(27., grad_fn=<MeanBackward0>)\n",
            "tensor([[4.5000, 4.5000],\n",
            "        [4.5000, 4.5000]])\n",
            "tensor([[4.5000, 4.5000],\n",
            "        [4.5000, 4.5000]])\n",
            "None\n",
            "True\n",
            "tensor([[9., 9.],\n",
            "        [9., 9.]])\n",
            "tensor([[9., 9.],\n",
            "        [9., 9.]])\n"
          ]
        },
        {
          "output_type": "stream",
          "name": "stderr",
          "text": [
            "/usr/local/lib/python3.7/dist-packages/torch/_tensor.py:1083: UserWarning: The .grad attribute of a Tensor that is not a leaf Tensor is being accessed. Its .grad attribute won't be populated during autograd.backward(). If you indeed want the .grad field to be populated for a non-leaf Tensor, use .retain_grad() on the non-leaf Tensor. If you access the non-leaf Tensor by mistake, make sure you access the leaf Tensor instead. See github.com/pytorch/pytorch/pull/30531 for more informations. (Triggered internally at  aten/src/ATen/core/TensorBody.h:477.)\n",
            "  return self._grad\n"
          ]
        }
      ]
    },
    {
      "cell_type": "code",
      "source": [
        "print(out)\n",
        "\n",
        "# 이전에 만든 out을 사용해서 역전파 진행\n",
        "# 여러번 역전파를 하기위해서는 retain_graph=True로 지정\n",
        "out.backward(retain_graph=True)\n",
        "# out.backward(torch.tensor(1.))을 진행하는 것과 동일"
      ],
      "metadata": {
        "colab": {
          "base_uri": "https://localhost:8080/",
          "height": 418
        },
        "id": "kYEIjnbJYeEV",
        "outputId": "8c35d3f1-2992-476f-c107-c1f92c65a2f7"
      },
      "execution_count": 13,
      "outputs": [
        {
          "output_type": "stream",
          "name": "stdout",
          "text": [
            "tensor(27., grad_fn=<MeanBackward0>)\n"
          ]
        },
        {
          "output_type": "error",
          "ename": "RuntimeError",
          "evalue": "ignored",
          "traceback": [
            "\u001b[0;31m---------------------------------------------------------------------------\u001b[0m",
            "\u001b[0;31mRuntimeError\u001b[0m                              Traceback (most recent call last)",
            "\u001b[0;32m<ipython-input-13-39d70bb07b89>\u001b[0m in \u001b[0;36m<module>\u001b[0;34m\u001b[0m\n\u001b[1;32m      3\u001b[0m \u001b[0;31m# 이전에 만든 out을 사용해서 역전파 진행\u001b[0m\u001b[0;34m\u001b[0m\u001b[0;34m\u001b[0m\u001b[0;34m\u001b[0m\u001b[0m\n\u001b[1;32m      4\u001b[0m \u001b[0;31m# 여러번 역전파를 하기위해서는 retain_graph=True로 지정\u001b[0m\u001b[0;34m\u001b[0m\u001b[0;34m\u001b[0m\u001b[0;34m\u001b[0m\u001b[0m\n\u001b[0;32m----> 5\u001b[0;31m \u001b[0mout\u001b[0m\u001b[0;34m.\u001b[0m\u001b[0mbackward\u001b[0m\u001b[0;34m(\u001b[0m\u001b[0mretain_graph\u001b[0m\u001b[0;34m=\u001b[0m\u001b[0;32mTrue\u001b[0m\u001b[0;34m)\u001b[0m\u001b[0;34m\u001b[0m\u001b[0;34m\u001b[0m\u001b[0m\n\u001b[0m\u001b[1;32m      6\u001b[0m \u001b[0;31m# out.backward(torch.tensor(1.))을 진행하는 것과 동일\u001b[0m\u001b[0;34m\u001b[0m\u001b[0;34m\u001b[0m\u001b[0;34m\u001b[0m\u001b[0m\n",
            "\u001b[0;32m/usr/local/lib/python3.7/dist-packages/torch/_tensor.py\u001b[0m in \u001b[0;36mbackward\u001b[0;34m(self, gradient, retain_graph, create_graph, inputs)\u001b[0m\n\u001b[1;32m    394\u001b[0m                 \u001b[0mcreate_graph\u001b[0m\u001b[0;34m=\u001b[0m\u001b[0mcreate_graph\u001b[0m\u001b[0;34m,\u001b[0m\u001b[0;34m\u001b[0m\u001b[0;34m\u001b[0m\u001b[0m\n\u001b[1;32m    395\u001b[0m                 inputs=inputs)\n\u001b[0;32m--> 396\u001b[0;31m         \u001b[0mtorch\u001b[0m\u001b[0;34m.\u001b[0m\u001b[0mautograd\u001b[0m\u001b[0;34m.\u001b[0m\u001b[0mbackward\u001b[0m\u001b[0;34m(\u001b[0m\u001b[0mself\u001b[0m\u001b[0;34m,\u001b[0m \u001b[0mgradient\u001b[0m\u001b[0;34m,\u001b[0m \u001b[0mretain_graph\u001b[0m\u001b[0;34m,\u001b[0m \u001b[0mcreate_graph\u001b[0m\u001b[0;34m,\u001b[0m \u001b[0minputs\u001b[0m\u001b[0;34m=\u001b[0m\u001b[0minputs\u001b[0m\u001b[0;34m)\u001b[0m\u001b[0;34m\u001b[0m\u001b[0;34m\u001b[0m\u001b[0m\n\u001b[0m\u001b[1;32m    397\u001b[0m \u001b[0;34m\u001b[0m\u001b[0m\n\u001b[1;32m    398\u001b[0m     \u001b[0;32mdef\u001b[0m \u001b[0mregister_hook\u001b[0m\u001b[0;34m(\u001b[0m\u001b[0mself\u001b[0m\u001b[0;34m,\u001b[0m \u001b[0mhook\u001b[0m\u001b[0;34m)\u001b[0m\u001b[0;34m:\u001b[0m\u001b[0;34m\u001b[0m\u001b[0;34m\u001b[0m\u001b[0m\n",
            "\u001b[0;32m/usr/local/lib/python3.7/dist-packages/torch/autograd/__init__.py\u001b[0m in \u001b[0;36mbackward\u001b[0;34m(tensors, grad_tensors, retain_graph, create_graph, grad_variables, inputs)\u001b[0m\n\u001b[1;32m    173\u001b[0m     Variable._execution_engine.run_backward(  # Calls into the C++ engine to run the backward pass\n\u001b[1;32m    174\u001b[0m         \u001b[0mtensors\u001b[0m\u001b[0;34m,\u001b[0m \u001b[0mgrad_tensors_\u001b[0m\u001b[0;34m,\u001b[0m \u001b[0mretain_graph\u001b[0m\u001b[0;34m,\u001b[0m \u001b[0mcreate_graph\u001b[0m\u001b[0;34m,\u001b[0m \u001b[0minputs\u001b[0m\u001b[0;34m,\u001b[0m\u001b[0;34m\u001b[0m\u001b[0;34m\u001b[0m\u001b[0m\n\u001b[0;32m--> 175\u001b[0;31m         allow_unreachable=True, accumulate_grad=True)  # Calls into the C++ engine to run the backward pass\n\u001b[0m\u001b[1;32m    176\u001b[0m \u001b[0;34m\u001b[0m\u001b[0m\n\u001b[1;32m    177\u001b[0m def grad(\n",
            "\u001b[0;31mRuntimeError\u001b[0m: Trying to backward through the graph a second time (or directly access saved tensors after they have already been freed). Saved intermediate values of the graph are freed when you call .backward() or autograd.grad(). Specify retain_graph=True if you need to backward through the graph a second time or if you need to access saved tensors after calling backward."
          ]
        }
      ]
    },
    {
      "cell_type": "code",
      "source": [
        "# 역전파를 진행한 후의 x값\n",
        "# d(out) / dx\n",
        "print(x.grad)\n",
        "print(y.grad)\n",
        "print(z.is_leaf)"
      ],
      "metadata": {
        "colab": {
          "base_uri": "https://localhost:8080/"
        },
        "id": "wn_WX6C1ZWKB",
        "outputId": "e2122707-0365-49c2-e42f-d410ef8cd4b4"
      },
      "execution_count": 14,
      "outputs": [
        {
          "output_type": "stream",
          "name": "stdout",
          "text": [
            "tensor([[9., 9.],\n",
            "        [9., 9.]])\n",
            "tensor([[9., 9.],\n",
            "        [9., 9.]])\n",
            "False\n"
          ]
        }
      ]
    },
    {
      "cell_type": "markdown",
      "source": [
        "![화면 캡처 2022-08-16 110654.png](data:image/png;base64,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)"
      ],
      "metadata": {
        "id": "2KjaQsmDZhT3"
      }
    },
    {
      "cell_type": "markdown",
      "source": [
        "out(미분결과) = 1/4 * 6 * (x + 2) = 3/2(x + 2)"
      ],
      "metadata": {
        "id": "FyItmIIoaDeT"
      }
    },
    {
      "cell_type": "markdown",
      "source": [
        "* 일반적으로 `torch.autograd` 는 벡터-야코비안 곱을 계산하는 엔진\n",
        "* `torch.autograd` 를 사용하면 전체 야코비안을 직접 계산할수는 없지만, 벡터-야코비안 곱은 `backward` 에 해당 벡터를 인자로 제공하여 얻을 수 있음"
      ],
      "metadata": {
        "id": "kxNDXqg4aRq4"
      }
    },
    {
      "cell_type": "code",
      "source": [
        "x = torch.randn(3, requires_grad=True)\n",
        "\n",
        "y = x * 2\n",
        "\n",
        "while y.data.norm() < 1000:\n",
        "  y = y * 2\n",
        "\n",
        "print(y) "
      ],
      "metadata": {
        "colab": {
          "base_uri": "https://localhost:8080/"
        },
        "id": "OylaHxpPa0gZ",
        "outputId": "6c47d568-d2eb-4c48-f4ac-caded15e7ddc"
      },
      "execution_count": 15,
      "outputs": [
        {
          "output_type": "stream",
          "name": "stdout",
          "text": [
            "tensor([  402.4676, -1013.2015,   603.4984], grad_fn=<MulBackward0>)\n"
          ]
        }
      ]
    },
    {
      "cell_type": "code",
      "source": [
        "# scalar값이 아닌 y의 벡터-야코비안 곱을 구하는 과정\n",
        "v = torch.tensor([0.1, 1.0, 0.0001], dtype=torch.float)\n",
        "y.backward(v)\n",
        "\n",
        "print(x.grad)"
      ],
      "metadata": {
        "colab": {
          "base_uri": "https://localhost:8080/"
        },
        "id": "kMeyKebwbTo7",
        "outputId": "aa17e920-df7b-4609-883c-b70499737959"
      },
      "execution_count": 16,
      "outputs": [
        {
          "output_type": "stream",
          "name": "stdout",
          "text": [
            "tensor([5.1200e+01, 5.1200e+02, 5.1200e-02])\n"
          ]
        }
      ]
    },
    {
      "cell_type": "markdown",
      "source": [
        "* `with torch.no_grad()`로 코드 블록을 감싸서 `autograd`가 `.requires_grad=True`인 Tensor의 연산 기록을 추적하는 것을 멈출 수도 있음"
      ],
      "metadata": {
        "id": "doG4P9Qubw_D"
      }
    },
    {
      "cell_type": "code",
      "source": [
        "print(x.requires_grad)\n",
        "print((x ** 2).requires_grad)\n",
        "\n",
        "with torch.no_grad():\n",
        "  print((x ** 2).requires_grad)"
      ],
      "metadata": {
        "colab": {
          "base_uri": "https://localhost:8080/"
        },
        "id": "h2l5tGQ0cK0y",
        "outputId": "168798da-251e-4113-891e-f85a530bed95"
      },
      "execution_count": 17,
      "outputs": [
        {
          "output_type": "stream",
          "name": "stdout",
          "text": [
            "True\n",
            "True\n",
            "False\n"
          ]
        }
      ]
    },
    {
      "cell_type": "markdown",
      "source": [
        "* 또는 .detach()를 호출하여 내용물은 같지만 requires_grad가 다른 새로운 텐서를 가져올 수 있음"
      ],
      "metadata": {
        "id": "jNjyqZyjceFJ"
      }
    },
    {
      "cell_type": "code",
      "source": [
        "print(x.requires_grad)\n",
        "y = x.detach()\n",
        "print(y.requires_grad)\n",
        "print(x.eq(y).all())"
      ],
      "metadata": {
        "colab": {
          "base_uri": "https://localhost:8080/"
        },
        "id": "HJkBTLijcogv",
        "outputId": "ce9bb81b-d98a-4762-b411-e7faf892bbda"
      },
      "execution_count": 18,
      "outputs": [
        {
          "output_type": "stream",
          "name": "stdout",
          "text": [
            "True\n",
            "False\n",
            "tensor(True)\n"
          ]
        }
      ]
    },
    {
      "cell_type": "markdown",
      "source": [
        "### ANN(Artificial Neural Networks)\n",
        "* 신경망은 `torch.nn`패키지를 사용하여 생성할 수 있음\n",
        "* `nn`은 모델을 정의하고 미분하기 위해서 살펴본 `autograd`를 사용\n",
        "* `nn.Module`은 계층(layer)와 `output`을 반환하는 forward(input) 메소드를 포함"
      ],
      "metadata": {
        "id": "nH_E1BUcdOTw"
      }
    },
    {
      "cell_type": "markdown",
      "source": [
        "* 간단한 순전파 네트워크(feed-forward-network)\n",
        "* 입력을 받아 여러 계층(layer)에 차례로 전달 후 최종 출력 제공\n",
        "* 신경망의 일반적인 학습 과정\n",
        "\n",
        " * 학습 가능한 매개변수(가중치)를 갖는 신경망 정의\n",
        " * 데이터 셋 입력 반복\n",
        " * 입력을 신경망에서 전파(process)\n",
        " * 손실(loss, 입력값-예측값)를 계산\n",
        " * 변화도(gradient)를 신경망의 매개변수들에 의해 역으로 전파 - 역전파 과정\n",
        " * 신경망의 가중치 갱신\n",
        "   * 새로운 가중치(weight) = 가중치(weight)-  학습률(learning rate) * 변화도(gradient)"
      ],
      "metadata": {
        "id": "b6HJvcEpd_5t"
      }
    },
    {
      "cell_type": "code",
      "source": [
        "import pandas as pd\n",
        "\n",
        "from sklearn.datasets import load_iris\n",
        "\n",
        "import torch\n",
        "import torch.nn as nn\n",
        "from torch.utils.data import DataLoader, TensorDataset"
      ],
      "metadata": {
        "id": "fmvSGFm_fZ1e"
      },
      "execution_count": 19,
      "outputs": []
    },
    {
      "cell_type": "code",
      "source": [
        "class Net(nn.Module):\n",
        "\n",
        "    def __init__(self):\n",
        "        super(Net, self).__init__()\n",
        "\n",
        "        self.layer0 = nn.Linear(4, 128)\n",
        "        self.layer1 = nn.Linear(128, 64)\n",
        "        self.layer2 = nn.Linear(64, 32)\n",
        "        self.layer3 = nn.Linear(32, 16)\n",
        "        self.layer4 = nn.Linear(16, 3)\n",
        "\n",
        "        self.bn0 = nn.BatchNorm1d(128)\n",
        "        self.bn1 = nn.BatchNorm1d(64)\n",
        "        self.bn2 = nn.BatchNorm1d(32)\n",
        "\n",
        "        self.act = nn.ReLU()\n",
        "\n",
        "    def forward(self, x):\n",
        "      x = self.act(self.bn0(self.layer0(x)))\n",
        "      x = self.act(self.bn1(self.layer1(x)))\n",
        "      x = self.act(self.bn2(self.layer2(x)))\n",
        "      x = self.act(self.layer3(x))\n",
        "      x = self.layer4(x)\n",
        "\n",
        "      return x"
      ],
      "metadata": {
        "id": "vOXJM1GdneAI"
      },
      "execution_count": 20,
      "outputs": []
    },
    {
      "cell_type": "markdown",
      "source": [
        "### 손실함수(Loss function)\n",
        "* 손실 함수는 (output, target)을 한 쌍으로 입력 받아, 출력이 정답으로부터 얼마나 떨어져있는지 추정하는 값을 계산\n",
        "* `forward`함수만 정의하고 나면 `backward`함수는 `autograd`를 사용하여 자동으로 정의됨\n",
        "* 모델의 학습 가능한 매개변수는 `net.parameters()`에 의해 변환됨"
      ],
      "metadata": {
        "id": "656grUhloWou"
      }
    },
    {
      "cell_type": "code",
      "source": [
        "# 랜덤 값 생성\n",
        "criterion = nn.CrossEntropyLoss()\n",
        "\n",
        "ex_X, ex_y = torch.randn([4, 4]), torch.tensor([1, 0, 2, 0])\n",
        "\n",
        "net = Net()\n",
        "output = net(ex_X)\n",
        "loss = criterion(output, ex_y)\n",
        "print('loss: ', loss.item())\n",
        "  \n",
        "net.zero_grad()\n",
        "\n",
        "print('layer0.bias.grad before backward')\n",
        "print(net.layer4.bias.grad)\n",
        "\n",
        "print(net.layer4.bias.is_leaf)\n",
        "\n",
        "loss.backward()\n",
        "\n",
        "print('layer0.bias.grad after backward')\n",
        "print(net.layer4.bias.grad)\n",
        "\n",
        "\"\"\"\n",
        "이 부분에서 .retain_grad() 를 사용하지 않아도 되는 이유는 weight와 bias의 파라미터가 leaf 논드이기 때문이라고 합니다.\n",
        "설명이 포함된 링크들을 아래에 첨부해두니 읽어보시면 좋을 것 같습니다 :)\n",
        "\n",
        "어떤 경우가 leaf 노드 인지 - https://discuss.pytorch.org/t/leaf-variable-was-used-in-an-inplace-operation/308/20\n",
        "왜 leaf 노드만 경우에는 retain_grad()를 하지 않아도 grad 값이 나오는지 - https://discuss.pytorch.org/t/what-is-the-purpose-of-is-leaf/87000/7\n",
        "\"\"\""
      ],
      "metadata": {
        "colab": {
          "base_uri": "https://localhost:8080/",
          "height": 164
        },
        "id": "665yoya-o5ca",
        "outputId": "61be4e4f-2048-4932-8c6d-ca9aba920d37"
      },
      "execution_count": 21,
      "outputs": [
        {
          "output_type": "stream",
          "name": "stdout",
          "text": [
            "loss:  1.1628823280334473\n",
            "layer0.bias.grad before backward\n",
            "None\n",
            "True\n",
            "layer0.bias.grad after backward\n",
            "tensor([-0.1821,  0.0589,  0.1232])\n"
          ]
        },
        {
          "output_type": "execute_result",
          "data": {
            "text/plain": [
              "'\\n이 부분에서 .retain_grad() 를 사용하지 않아도 되는 이유는 weight와 bias의 파라미터가 leaf 논드이기 때문이라고 합니다.\\n설명이 포함된 링크들을 아래에 첨부해두니 읽어보시면 좋을 것 같습니다 :)\\n\\n어떤 경우가 leaf 노드 인지 - https://discuss.pytorch.org/t/leaf-variable-was-used-in-an-inplace-operation/308/20\\n왜 leaf 노드만 경우에는 retain_grad()를 하지 않아도 grad 값이 나오는지 - https://discuss.pytorch.org/t/what-is-the-purpose-of-is-leaf/87000/7\\n'"
            ],
            "application/vnd.google.colaboratory.intrinsic+json": {
              "type": "string"
            }
          },
          "metadata": {},
          "execution_count": 21
        }
      ]
    },
    {
      "cell_type": "code",
      "source": [
        "params = list(net.parameters())\n",
        "print(len(params))\n",
        "print(params[0].size())    # layer0의 weight"
      ],
      "metadata": {
        "colab": {
          "base_uri": "https://localhost:8080/"
        },
        "id": "onTrIR77q9Ir",
        "outputId": "1bb02247-34a4-46a4-fa7d-740715883170"
      },
      "execution_count": 22,
      "outputs": [
        {
          "output_type": "stream",
          "name": "stdout",
          "text": [
            "16\n",
            "torch.Size([128, 4])\n"
          ]
        }
      ]
    },
    {
      "cell_type": "markdown",
      "source": [
        "### 가중치 갱신\n",
        "* 가장 단순한 갱신 규칙은 확률적 경사하강법(SGD; Stochastic Gradient Descent)\n",
        "\n",
        "* 새로운 가중치(weignt) = 가중치(weignt) - 학습률(learning rate) * 변화도(gradient)"
      ],
      "metadata": {
        "id": "B-qCs6NkrVBT"
      }
    },
    {
      "cell_type": "code",
      "source": [
        "# torch.optim 패키지에 다양한 갱신 규칙이 규현되어 있음\n",
        "\n",
        "import torch.optim as optim\n",
        "\n",
        "optimizer = optim.SGD(net.parameters(), lr=0.001)\n",
        "\n",
        "optimizer.zero_grad()\n",
        "output = net(ex_X)\n",
        "loss = criterion(output, ex_y)\n",
        "loss.backward()\n",
        "optimizer.step()  # 업데이트 진행"
      ],
      "metadata": {
        "id": "JaKVpLGqr6Jo"
      },
      "execution_count": 23,
      "outputs": []
    },
    {
      "cell_type": "markdown",
      "source": [
        "### MLP 모델"
      ],
      "metadata": {
        "id": "eMn5nIr1sNQr"
      }
    },
    {
      "cell_type": "code",
      "source": [
        "dataset = load_iris()\n",
        "\n",
        "data = dataset.data\n",
        "label = dataset.target\n",
        "\n",
        "print(dataset.DESCR)"
      ],
      "metadata": {
        "colab": {
          "base_uri": "https://localhost:8080/"
        },
        "id": "eoQLORcnsT99",
        "outputId": "48d35acd-5c19-4c9d-ea0e-91ef0f83396c"
      },
      "execution_count": 24,
      "outputs": [
        {
          "output_type": "stream",
          "name": "stdout",
          "text": [
            ".. _iris_dataset:\n",
            "\n",
            "Iris plants dataset\n",
            "--------------------\n",
            "\n",
            "**Data Set Characteristics:**\n",
            "\n",
            "    :Number of Instances: 150 (50 in each of three classes)\n",
            "    :Number of Attributes: 4 numeric, predictive attributes and the class\n",
            "    :Attribute Information:\n",
            "        - sepal length in cm\n",
            "        - sepal width in cm\n",
            "        - petal length in cm\n",
            "        - petal width in cm\n",
            "        - class:\n",
            "                - Iris-Setosa\n",
            "                - Iris-Versicolour\n",
            "                - Iris-Virginica\n",
            "                \n",
            "    :Summary Statistics:\n",
            "\n",
            "    ============== ==== ==== ======= ===== ====================\n",
            "                    Min  Max   Mean    SD   Class Correlation\n",
            "    ============== ==== ==== ======= ===== ====================\n",
            "    sepal length:   4.3  7.9   5.84   0.83    0.7826\n",
            "    sepal width:    2.0  4.4   3.05   0.43   -0.4194\n",
            "    petal length:   1.0  6.9   3.76   1.76    0.9490  (high!)\n",
            "    petal width:    0.1  2.5   1.20   0.76    0.9565  (high!)\n",
            "    ============== ==== ==== ======= ===== ====================\n",
            "\n",
            "    :Missing Attribute Values: None\n",
            "    :Class Distribution: 33.3% for each of 3 classes.\n",
            "    :Creator: R.A. Fisher\n",
            "    :Donor: Michael Marshall (MARSHALL%PLU@io.arc.nasa.gov)\n",
            "    :Date: July, 1988\n",
            "\n",
            "The famous Iris database, first used by Sir R.A. Fisher. The dataset is taken\n",
            "from Fisher's paper. Note that it's the same as in R, but not as in the UCI\n",
            "Machine Learning Repository, which has two wrong data points.\n",
            "\n",
            "This is perhaps the best known database to be found in the\n",
            "pattern recognition literature.  Fisher's paper is a classic in the field and\n",
            "is referenced frequently to this day.  (See Duda & Hart, for example.)  The\n",
            "data set contains 3 classes of 50 instances each, where each class refers to a\n",
            "type of iris plant.  One class is linearly separable from the other 2; the\n",
            "latter are NOT linearly separable from each other.\n",
            "\n",
            ".. topic:: References\n",
            "\n",
            "   - Fisher, R.A. \"The use of multiple measurements in taxonomic problems\"\n",
            "     Annual Eugenics, 7, Part II, 179-188 (1936); also in \"Contributions to\n",
            "     Mathematical Statistics\" (John Wiley, NY, 1950).\n",
            "   - Duda, R.O., & Hart, P.E. (1973) Pattern Classification and Scene Analysis.\n",
            "     (Q327.D83) John Wiley & Sons.  ISBN 0-471-22361-1.  See page 218.\n",
            "   - Dasarathy, B.V. (1980) \"Nosing Around the Neighborhood: A New System\n",
            "     Structure and Classification Rule for Recognition in Partially Exposed\n",
            "     Environments\".  IEEE Transactions on Pattern Analysis and Machine\n",
            "     Intelligence, Vol. PAMI-2, No. 1, 67-71.\n",
            "   - Gates, G.W. (1972) \"The Reduced Nearest Neighbor Rule\".  IEEE Transactions\n",
            "     on Information Theory, May 1972, 431-433.\n",
            "   - See also: 1988 MLC Proceedings, 54-64.  Cheeseman et al\"s AUTOCLASS II\n",
            "     conceptual clustering system finds 3 classes in the data.\n",
            "   - Many, many more ...\n"
          ]
        }
      ]
    },
    {
      "cell_type": "code",
      "source": [
        "print('shape of data: ', data.shape)\n",
        "print('shape of label: ', label.shape)"
      ],
      "metadata": {
        "colab": {
          "base_uri": "https://localhost:8080/"
        },
        "id": "eoXZSW9TspU9",
        "outputId": "5a342912-02a8-49be-d108-4ac0ca3afdc8"
      },
      "execution_count": 25,
      "outputs": [
        {
          "output_type": "stream",
          "name": "stdout",
          "text": [
            "shape of data:  (150, 4)\n",
            "shape of label:  (150,)\n"
          ]
        }
      ]
    },
    {
      "cell_type": "code",
      "source": [
        "# 훈련과 테스트 데이터로 나누기\n",
        "from sklearn.model_selection import train_test_split\n",
        "\n",
        "X_train, X_test, y_train, y_test = train_test_split(data, label, test_size=0.25)\n",
        "X_train, X_valid, y_train, y_valid = train_test_split(X_train, y_train, test_size=0.25)\n",
        "print(len(X_train))\n",
        "print(len(X_test))"
      ],
      "metadata": {
        "colab": {
          "base_uri": "https://localhost:8080/"
        },
        "id": "AlgCZmP1sy08",
        "outputId": "401f0c7b-f72a-4304-8cc4-aa66a44d76b5"
      },
      "execution_count": 26,
      "outputs": [
        {
          "output_type": "stream",
          "name": "stdout",
          "text": [
            "84\n",
            "38\n"
          ]
        }
      ]
    },
    {
      "cell_type": "code",
      "source": [
        "# DataLoader 생성\n",
        "X_train = torch.from_numpy(X_train).float()\n",
        "y_train = torch.from_numpy(y_train).long()\n",
        "\n",
        "X_test = torch.from_numpy(X_test).float()\n",
        "y_test = torch.from_numpy(y_test).long()\n",
        "\n",
        "train_set = TensorDataset(X_train, y_train)\n",
        "\n",
        "train_loader = DataLoader(train_set, batch_size=4, shuffle=True)"
      ],
      "metadata": {
        "id": "EF0eicQQtLzr"
      },
      "execution_count": 27,
      "outputs": []
    },
    {
      "cell_type": "code",
      "source": [
        "class Net(nn.Module):\n",
        "\n",
        "    def __init__(self):\n",
        "        super(Net, self).__init__()\n",
        "\n",
        "        self.layer0 = nn.Linear(4, 128)\n",
        "        self.layer1 = nn.Linear(128, 64)\n",
        "        self.layer2 = nn.Linear(64, 32)\n",
        "        self.layer3 = nn.Linear(32, 16)\n",
        "        self.layer4 = nn.Linear(16, 3)\n",
        "\n",
        "        self.bn0 = nn.BatchNorm1d(128)\n",
        "        self.bn1 = nn.BatchNorm1d(64)\n",
        "        self.bn2 = nn.BatchNorm1d(32)\n",
        "\n",
        "        self.act = nn.ReLU()\n",
        "\n",
        "    def forward(self, x):\n",
        "      x = self.act(self.bn0(self.layer0(x)))\n",
        "      x = self.act(self.bn1(self.layer1(x)))\n",
        "      x = self.act(self.bn2(self.layer2(x)))\n",
        "      x = self.act(self.layer3(x))\n",
        "      x = self.layer4(x)\n",
        "\n",
        "      return x\n",
        "      # return nn.Softmax(x)"
      ],
      "metadata": {
        "id": "jcp8fZX5uy0g"
      },
      "execution_count": 28,
      "outputs": []
    },
    {
      "cell_type": "code",
      "source": [
        "net = Net()\n",
        "print(net)"
      ],
      "metadata": {
        "colab": {
          "base_uri": "https://localhost:8080/"
        },
        "id": "Ju7Jm9fKvHRe",
        "outputId": "d4147af5-96fa-4310-976f-5555d4ae9231"
      },
      "execution_count": 29,
      "outputs": [
        {
          "output_type": "stream",
          "name": "stdout",
          "text": [
            "Net(\n",
            "  (layer0): Linear(in_features=4, out_features=128, bias=True)\n",
            "  (layer1): Linear(in_features=128, out_features=64, bias=True)\n",
            "  (layer2): Linear(in_features=64, out_features=32, bias=True)\n",
            "  (layer3): Linear(in_features=32, out_features=16, bias=True)\n",
            "  (layer4): Linear(in_features=16, out_features=3, bias=True)\n",
            "  (bn0): BatchNorm1d(128, eps=1e-05, momentum=0.1, affine=True, track_running_stats=True)\n",
            "  (bn1): BatchNorm1d(64, eps=1e-05, momentum=0.1, affine=True, track_running_stats=True)\n",
            "  (bn2): BatchNorm1d(32, eps=1e-05, momentum=0.1, affine=True, track_running_stats=True)\n",
            "  (act): ReLU()\n",
            ")\n"
          ]
        }
      ]
    },
    {
      "cell_type": "code",
      "source": [
        "optimizer = torch.optim.SGD(net.parameters(), lr=0.001)\n",
        "criterion = nn.CrossEntropyLoss()\n",
        "epochs = 200"
      ],
      "metadata": {
        "id": "E6lUbtJNvSBy"
      },
      "execution_count": 30,
      "outputs": []
    },
    {
      "cell_type": "code",
      "source": [
        "losses = list()\n",
        "accuracies = list()\n",
        "\n",
        "for epoch in range(epochs):\n",
        "  epoch_loss = 0  \n",
        "  epoch_accuracy = 0\n",
        "  for X, y in train_loader:\n",
        "  \n",
        "    optimizer.zero_grad()\n",
        "    \n",
        "    output = net(X)\n",
        "\n",
        "    loss = criterion(output, y)\n",
        "    loss.backward()\n",
        "    \n",
        "    optimizer.step()\n",
        "    # output = [0.11, 0.5, 0.8]  --> 예측 클래스 값\n",
        "    _, predicted = torch.max(output, dim=1)\n",
        "    accuracy = (predicted == y).sum().item()\n",
        "    epoch_loss += loss.item()\n",
        "    epoch_accuracy += accuracy\n",
        "\n",
        "  epoch_loss /= len(train_loader)\n",
        "  epoch_accuracy /= len(X_train)\n",
        "  print(\"epoch :{}, \\tloss :{}, \\taccuracy :{}\".format(str(epoch+1).zfill(3),round(epoch_loss,4), round(epoch_accuracy,4)))\n",
        "  \n",
        "  losses.append(epoch_loss)\n",
        "  accuracies.append(epoch_accuracy)"
      ],
      "metadata": {
        "colab": {
          "base_uri": "https://localhost:8080/"
        },
        "id": "KTDwqcdrvTb_",
        "outputId": "12e8a5f2-2205-4a96-c4f1-0579eb29974d"
      },
      "execution_count": 31,
      "outputs": [
        {
          "output_type": "stream",
          "name": "stdout",
          "text": [
            "epoch :001, \tloss :1.1359, \taccuracy :0.3214\n",
            "epoch :002, \tloss :1.1168, \taccuracy :0.3452\n",
            "epoch :003, \tloss :1.1168, \taccuracy :0.3333\n",
            "epoch :004, \tloss :1.1097, \taccuracy :0.3214\n",
            "epoch :005, \tloss :1.0947, \taccuracy :0.381\n",
            "epoch :006, \tloss :1.063, \taccuracy :0.4286\n",
            "epoch :007, \tloss :1.0804, \taccuracy :0.4286\n",
            "epoch :008, \tloss :1.052, \taccuracy :0.5\n",
            "epoch :009, \tloss :1.053, \taccuracy :0.5119\n",
            "epoch :010, \tloss :1.0759, \taccuracy :0.369\n",
            "epoch :011, \tloss :1.0346, \taccuracy :0.5952\n",
            "epoch :012, \tloss :1.0365, \taccuracy :0.5595\n",
            "epoch :013, \tloss :1.023, \taccuracy :0.5714\n",
            "epoch :014, \tloss :1.0008, \taccuracy :0.6667\n",
            "epoch :015, \tloss :1.0156, \taccuracy :0.5595\n",
            "epoch :016, \tloss :0.9927, \taccuracy :0.5952\n",
            "epoch :017, \tloss :1.017, \taccuracy :0.5952\n",
            "epoch :018, \tloss :0.99, \taccuracy :0.6071\n",
            "epoch :019, \tloss :0.9773, \taccuracy :0.6429\n",
            "epoch :020, \tloss :0.9777, \taccuracy :0.6548\n",
            "epoch :021, \tloss :0.969, \taccuracy :0.6786\n",
            "epoch :022, \tloss :0.9771, \taccuracy :0.7143\n",
            "epoch :023, \tloss :0.973, \taccuracy :0.7143\n",
            "epoch :024, \tloss :0.9424, \taccuracy :0.7143\n",
            "epoch :025, \tloss :0.9709, \taccuracy :0.631\n",
            "epoch :026, \tloss :0.9813, \taccuracy :0.6071\n",
            "epoch :027, \tloss :0.9509, \taccuracy :0.7262\n",
            "epoch :028, \tloss :0.9378, \taccuracy :0.7381\n",
            "epoch :029, \tloss :0.9479, \taccuracy :0.7143\n",
            "epoch :030, \tloss :0.9428, \taccuracy :0.7143\n",
            "epoch :031, \tloss :0.9362, \taccuracy :0.6786\n",
            "epoch :032, \tloss :0.9477, \taccuracy :0.6786\n",
            "epoch :033, \tloss :0.931, \taccuracy :0.7024\n",
            "epoch :034, \tloss :0.9254, \taccuracy :0.6905\n",
            "epoch :035, \tloss :0.8865, \taccuracy :0.8095\n",
            "epoch :036, \tloss :0.8903, \taccuracy :0.7381\n",
            "epoch :037, \tloss :0.9103, \taccuracy :0.75\n",
            "epoch :038, \tloss :0.8572, \taccuracy :0.8095\n",
            "epoch :039, \tloss :0.8893, \taccuracy :0.75\n",
            "epoch :040, \tloss :0.8654, \taccuracy :0.7738\n",
            "epoch :041, \tloss :0.8264, \taccuracy :0.869\n",
            "epoch :042, \tloss :0.8628, \taccuracy :0.7857\n",
            "epoch :043, \tloss :0.9248, \taccuracy :0.6548\n",
            "epoch :044, \tloss :0.8532, \taccuracy :0.7976\n",
            "epoch :045, \tloss :0.8761, \taccuracy :0.7262\n",
            "epoch :046, \tloss :0.8504, \taccuracy :0.7143\n",
            "epoch :047, \tloss :0.8764, \taccuracy :0.6667\n",
            "epoch :048, \tloss :0.8632, \taccuracy :0.75\n",
            "epoch :049, \tloss :0.8914, \taccuracy :0.7024\n",
            "epoch :050, \tloss :0.8524, \taccuracy :0.7857\n",
            "epoch :051, \tloss :0.8175, \taccuracy :0.7738\n",
            "epoch :052, \tloss :0.7924, \taccuracy :0.8452\n",
            "epoch :053, \tloss :0.8233, \taccuracy :0.7262\n",
            "epoch :054, \tloss :0.821, \taccuracy :0.7619\n",
            "epoch :055, \tloss :0.8754, \taccuracy :0.6786\n",
            "epoch :056, \tloss :0.8416, \taccuracy :0.7143\n",
            "epoch :057, \tloss :0.7959, \taccuracy :0.7738\n",
            "epoch :058, \tloss :0.7976, \taccuracy :0.7381\n",
            "epoch :059, \tloss :0.7614, \taccuracy :0.8095\n",
            "epoch :060, \tloss :0.7934, \taccuracy :0.7619\n",
            "epoch :061, \tloss :0.7502, \taccuracy :0.8214\n",
            "epoch :062, \tloss :0.7487, \taccuracy :0.8333\n",
            "epoch :063, \tloss :0.7519, \taccuracy :0.8095\n",
            "epoch :064, \tloss :0.7761, \taccuracy :0.7619\n",
            "epoch :065, \tloss :0.7612, \taccuracy :0.7976\n",
            "epoch :066, \tloss :0.7649, \taccuracy :0.75\n",
            "epoch :067, \tloss :0.7539, \taccuracy :0.7738\n",
            "epoch :068, \tloss :0.7963, \taccuracy :0.7857\n",
            "epoch :069, \tloss :0.7058, \taccuracy :0.869\n",
            "epoch :070, \tloss :0.7645, \taccuracy :0.7381\n",
            "epoch :071, \tloss :0.7247, \taccuracy :0.7976\n",
            "epoch :072, \tloss :0.7289, \taccuracy :0.7976\n",
            "epoch :073, \tloss :0.7221, \taccuracy :0.7619\n",
            "epoch :074, \tloss :0.6788, \taccuracy :0.8333\n",
            "epoch :075, \tloss :0.7866, \taccuracy :0.7143\n",
            "epoch :076, \tloss :0.7218, \taccuracy :0.7738\n",
            "epoch :077, \tloss :0.7261, \taccuracy :0.8333\n",
            "epoch :078, \tloss :0.733, \taccuracy :0.7976\n",
            "epoch :079, \tloss :0.7296, \taccuracy :0.7857\n",
            "epoch :080, \tloss :0.6462, \taccuracy :0.8333\n",
            "epoch :081, \tloss :0.7774, \taccuracy :0.7619\n",
            "epoch :082, \tloss :0.6172, \taccuracy :0.881\n",
            "epoch :083, \tloss :0.6743, \taccuracy :0.8333\n",
            "epoch :084, \tloss :0.6841, \taccuracy :0.8214\n",
            "epoch :085, \tloss :0.6972, \taccuracy :0.8095\n",
            "epoch :086, \tloss :0.6323, \taccuracy :0.8452\n",
            "epoch :087, \tloss :0.7595, \taccuracy :0.7381\n",
            "epoch :088, \tloss :0.5877, \taccuracy :0.8929\n",
            "epoch :089, \tloss :0.7692, \taccuracy :0.7619\n",
            "epoch :090, \tloss :0.77, \taccuracy :0.7143\n",
            "epoch :091, \tloss :0.7403, \taccuracy :0.7143\n",
            "epoch :092, \tloss :0.7109, \taccuracy :0.7619\n",
            "epoch :093, \tloss :0.6983, \taccuracy :0.7381\n",
            "epoch :094, \tloss :0.7168, \taccuracy :0.75\n",
            "epoch :095, \tloss :0.6669, \taccuracy :0.7976\n",
            "epoch :096, \tloss :0.7192, \taccuracy :0.7381\n",
            "epoch :097, \tloss :0.7019, \taccuracy :0.7381\n",
            "epoch :098, \tloss :0.6079, \taccuracy :0.7976\n",
            "epoch :099, \tloss :0.6109, \taccuracy :0.8333\n",
            "epoch :100, \tloss :0.6218, \taccuracy :0.8452\n",
            "epoch :101, \tloss :0.5733, \taccuracy :0.8452\n",
            "epoch :102, \tloss :0.6308, \taccuracy :0.8095\n",
            "epoch :103, \tloss :0.6045, \taccuracy :0.8095\n",
            "epoch :104, \tloss :0.6578, \taccuracy :0.7976\n",
            "epoch :105, \tloss :0.6769, \taccuracy :0.7619\n",
            "epoch :106, \tloss :0.6359, \taccuracy :0.8214\n",
            "epoch :107, \tloss :0.6942, \taccuracy :0.75\n",
            "epoch :108, \tloss :0.7051, \taccuracy :0.75\n",
            "epoch :109, \tloss :0.6252, \taccuracy :0.7976\n",
            "epoch :110, \tloss :0.6081, \taccuracy :0.7738\n",
            "epoch :111, \tloss :0.584, \taccuracy :0.8452\n",
            "epoch :112, \tloss :0.6656, \taccuracy :0.7976\n",
            "epoch :113, \tloss :0.5456, \taccuracy :0.8452\n",
            "epoch :114, \tloss :0.6867, \taccuracy :0.7262\n",
            "epoch :115, \tloss :0.6339, \taccuracy :0.8214\n",
            "epoch :116, \tloss :0.6189, \taccuracy :0.8095\n",
            "epoch :117, \tloss :0.593, \taccuracy :0.8571\n",
            "epoch :118, \tloss :0.5637, \taccuracy :0.8214\n",
            "epoch :119, \tloss :0.607, \taccuracy :0.7976\n",
            "epoch :120, \tloss :0.5475, \taccuracy :0.8214\n",
            "epoch :121, \tloss :0.6437, \taccuracy :0.7381\n",
            "epoch :122, \tloss :0.5669, \taccuracy :0.7857\n",
            "epoch :123, \tloss :0.5564, \taccuracy :0.881\n",
            "epoch :124, \tloss :0.5363, \taccuracy :0.8214\n",
            "epoch :125, \tloss :0.6962, \taccuracy :0.6905\n",
            "epoch :126, \tloss :0.5994, \taccuracy :0.7857\n",
            "epoch :127, \tloss :0.5895, \taccuracy :0.7857\n",
            "epoch :128, \tloss :0.6732, \taccuracy :0.7381\n",
            "epoch :129, \tloss :0.511, \taccuracy :0.8571\n",
            "epoch :130, \tloss :0.5807, \taccuracy :0.7857\n",
            "epoch :131, \tloss :0.5914, \taccuracy :0.7976\n",
            "epoch :132, \tloss :0.4995, \taccuracy :0.8095\n",
            "epoch :133, \tloss :0.6315, \taccuracy :0.7381\n",
            "epoch :134, \tloss :0.6154, \taccuracy :0.7857\n",
            "epoch :135, \tloss :0.5966, \taccuracy :0.8095\n",
            "epoch :136, \tloss :0.5176, \taccuracy :0.8333\n",
            "epoch :137, \tloss :0.4942, \taccuracy :0.881\n",
            "epoch :138, \tloss :0.6258, \taccuracy :0.7738\n",
            "epoch :139, \tloss :0.5349, \taccuracy :0.869\n",
            "epoch :140, \tloss :0.5697, \taccuracy :0.8333\n",
            "epoch :141, \tloss :0.6576, \taccuracy :0.7738\n",
            "epoch :142, \tloss :0.4961, \taccuracy :0.881\n",
            "epoch :143, \tloss :0.5195, \taccuracy :0.8095\n",
            "epoch :144, \tloss :0.4476, \taccuracy :0.869\n",
            "epoch :145, \tloss :0.5335, \taccuracy :0.8333\n",
            "epoch :146, \tloss :0.5613, \taccuracy :0.7857\n",
            "epoch :147, \tloss :0.5879, \taccuracy :0.7381\n",
            "epoch :148, \tloss :0.5283, \taccuracy :0.8214\n",
            "epoch :149, \tloss :0.4651, \taccuracy :0.8929\n",
            "epoch :150, \tloss :0.5329, \taccuracy :0.8333\n",
            "epoch :151, \tloss :0.4972, \taccuracy :0.881\n",
            "epoch :152, \tloss :0.4917, \taccuracy :0.8452\n",
            "epoch :153, \tloss :0.4693, \taccuracy :0.869\n",
            "epoch :154, \tloss :0.5545, \taccuracy :0.7738\n",
            "epoch :155, \tloss :0.4616, \taccuracy :0.9048\n",
            "epoch :156, \tloss :0.5273, \taccuracy :0.8095\n",
            "epoch :157, \tloss :0.4231, \taccuracy :0.869\n",
            "epoch :158, \tloss :0.678, \taccuracy :0.7143\n",
            "epoch :159, \tloss :0.4455, \taccuracy :0.8571\n",
            "epoch :160, \tloss :0.6083, \taccuracy :0.7738\n",
            "epoch :161, \tloss :0.4257, \taccuracy :0.8452\n",
            "epoch :162, \tloss :0.516, \taccuracy :0.8214\n",
            "epoch :163, \tloss :0.5407, \taccuracy :0.7976\n",
            "epoch :164, \tloss :0.4782, \taccuracy :0.8333\n",
            "epoch :165, \tloss :0.6283, \taccuracy :0.7381\n",
            "epoch :166, \tloss :0.4721, \taccuracy :0.8333\n",
            "epoch :167, \tloss :0.4994, \taccuracy :0.7857\n",
            "epoch :168, \tloss :0.4608, \taccuracy :0.8333\n",
            "epoch :169, \tloss :0.5076, \taccuracy :0.7738\n",
            "epoch :170, \tloss :0.5737, \taccuracy :0.7619\n",
            "epoch :171, \tloss :0.4852, \taccuracy :0.7976\n",
            "epoch :172, \tloss :0.4565, \taccuracy :0.8452\n",
            "epoch :173, \tloss :0.5693, \taccuracy :0.8452\n",
            "epoch :174, \tloss :0.3679, \taccuracy :0.9286\n",
            "epoch :175, \tloss :0.5431, \taccuracy :0.8095\n",
            "epoch :176, \tloss :0.4356, \taccuracy :0.8095\n",
            "epoch :177, \tloss :0.4561, \taccuracy :0.8571\n",
            "epoch :178, \tloss :0.5302, \taccuracy :0.7976\n",
            "epoch :179, \tloss :0.5818, \taccuracy :0.7738\n",
            "epoch :180, \tloss :0.4915, \taccuracy :0.8452\n",
            "epoch :181, \tloss :0.5126, \taccuracy :0.8214\n",
            "epoch :182, \tloss :0.5032, \taccuracy :0.7976\n",
            "epoch :183, \tloss :0.4735, \taccuracy :0.881\n",
            "epoch :184, \tloss :0.4464, \taccuracy :0.881\n",
            "epoch :185, \tloss :0.4226, \taccuracy :0.8929\n",
            "epoch :186, \tloss :0.4772, \taccuracy :0.8452\n",
            "epoch :187, \tloss :0.5841, \taccuracy :0.7857\n",
            "epoch :188, \tloss :0.6442, \taccuracy :0.7381\n",
            "epoch :189, \tloss :0.4933, \taccuracy :0.8333\n",
            "epoch :190, \tloss :0.5404, \taccuracy :0.8214\n",
            "epoch :191, \tloss :0.5109, \taccuracy :0.8095\n",
            "epoch :192, \tloss :0.5509, \taccuracy :0.7976\n",
            "epoch :193, \tloss :0.4399, \taccuracy :0.8571\n",
            "epoch :194, \tloss :0.4957, \taccuracy :0.7976\n",
            "epoch :195, \tloss :0.5624, \taccuracy :0.7619\n",
            "epoch :196, \tloss :0.5059, \taccuracy :0.8095\n",
            "epoch :197, \tloss :0.4618, \taccuracy :0.8452\n",
            "epoch :198, \tloss :0.5617, \taccuracy :0.7738\n",
            "epoch :199, \tloss :0.4374, \taccuracy :0.8571\n",
            "epoch :200, \tloss :0.4382, \taccuracy :0.8571\n"
          ]
        }
      ]
    },
    {
      "cell_type": "code",
      "source": [
        "# Plot result\n",
        "\n",
        "import matplotlib.pyplot as plt\n",
        "\n",
        "plt.figure(figsize=(20,5))\n",
        "plt.subplots_adjust(wspace=0.2)\n",
        "\n",
        "plt.subplot(1,2,1)\n",
        "plt.title(\"$loss$\",fontsize = 18)\n",
        "plt.plot(losses)\n",
        "plt.grid()\n",
        "plt.xlabel(\"$epochs$\", fontsize = 16)\n",
        "plt.xticks(fontsize = 14)\n",
        "plt.yticks(fontsize = 14)\n",
        "\n",
        "\n",
        "plt.subplot(1,2,2)\n",
        "plt.title(\"$accuracy$\", fontsize = 18)\n",
        "plt.plot(accuracies)\n",
        "plt.grid()\n",
        "plt.xlabel(\"$epochs$\", fontsize = 16)\n",
        "plt.xticks(fontsize = 14)\n",
        "plt.yticks(fontsize = 14)\n",
        "\n",
        "plt.show()"
      ],
      "metadata": {
        "colab": {
          "base_uri": "https://localhost:8080/",
          "height": 367
        },
        "id": "eNmZgNQAwTXE",
        "outputId": "0b55dc7a-1abc-4cdf-816d-fa95a4606ca5"
      },
      "execution_count": 32,
      "outputs": [
        {
          "output_type": "display_data",
          "data": {
            "text/plain": [
              "<Figure size 1440x360 with 2 Axes>"
            ],
            "image/png": "[encoded data removed]"
          },
          "metadata": {
            "needs_background": "light"
          }
        }
      ]
    },
    {
      "cell_type": "code",
      "source": [
        "# Test\n",
        "\n",
        "output = net(X_test)\n",
        "print(torch.max(output, dim=1))\n",
        "_, predicted = torch.max(output, dim=1)\n",
        "accuracy = round((predicted == y_test).sum().item() / len(y_test),4)\n",
        "\n",
        "print(\"test_set accuracy :\", round(accuracy,4))"
      ],
      "metadata": {
        "colab": {
          "base_uri": "https://localhost:8080/"
        },
        "id": "if96yhwlwjA4",
        "outputId": "7bb86f95-e997-4f43-c8a0-c8eab770158d"
      },
      "execution_count": 33,
      "outputs": [
        {
          "output_type": "stream",
          "name": "stdout",
          "text": [
            "torch.return_types.max(\n",
            "values=tensor([1.9297, 2.0087, 1.2324, 1.0720, 1.7444, 1.2863, 1.4702, 1.3544, 1.5546,\n",
            "        1.8898, 2.4202, 2.5089, 1.3899, 1.2013, 1.2928, 1.5514, 1.2895, 1.0973,\n",
            "        1.5640, 1.9095, 2.1366, 1.1320, 1.9270, 1.8740, 2.4173, 0.5918, 2.5252,\n",
            "        1.6071, 1.4822, 2.6388, 1.0849, 1.5385, 1.2084, 1.1666, 1.6719, 0.9773,\n",
            "        1.6528, 2.0336], grad_fn=<MaxBackward0>),\n",
            "indices=tensor([2, 2, 0, 0, 0, 0, 1, 1, 1, 0, 2, 2, 0, 0, 1, 1, 0, 1, 2, 2, 0, 1, 2, 1,\n",
            "        0, 1, 0, 1, 0, 2, 2, 0, 1, 1, 1, 1, 0, 0]))\n",
            "test_set accuracy : 0.9737\n"
          ]
        }
      ]
    }
  ]
}