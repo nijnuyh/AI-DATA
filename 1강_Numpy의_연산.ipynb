{
  "nbformat": 4,
  "nbformat_minor": 0,
  "metadata": {
    "colab": {
      "name": "1강: Numpy의 연산",
      "provenance": [],
      "collapsed_sections": [],
      "authorship_tag": "ABX9TyM7lurToU7EuZOwf7NToX5S",
      "include_colab_link": true
    },
    "kernelspec": {
      "name": "python3",
      "display_name": "Python 3"
    },
    "language_info": {
      "name": "python"
    }
  },
  "cells": [
    {
      "cell_type": "markdown",
      "metadata": {
        "id": "view-in-github",
        "colab_type": "text"
      },
      "source": [
        "<a href=\"https://colab.research.google.com/github/nijnuyh/AI-DATA/blob/main/1%EA%B0%95_Numpy%EC%9D%98_%EC%97%B0%EC%82%B0.ipynb\" target=\"_parent\"><img src=\"https://colab.research.google.com/assets/colab-badge.svg\" alt=\"Open In Colab\"/></a>"
      ]
    },
    {
      "cell_type": "markdown",
      "source": [
        "## numpy.array"
      ],
      "metadata": {
        "id": "vPWyBgpl4W-j"
      }
    },
    {
      "cell_type": "markdown",
      "source": [
        "### numpy의 Container.array"
      ],
      "metadata": {
        "id": "jZYWRH2q4ZUa"
      }
    },
    {
      "cell_type": "code",
      "source": [
        "import numpy as np \n",
        "arr = np.array([1, 2, 3])\n",
        "\n",
        "arr"
      ],
      "metadata": {
        "colab": {
          "base_uri": "https://localhost:8080/"
        },
        "id": "OD5APFGyHFgz",
        "outputId": "8a30f1f1-af6f-43ad-b597-5d17130a7910"
      },
      "execution_count": 1,
      "outputs": [
        {
          "output_type": "execute_result",
          "data": {
            "text/plain": [
              "array([1, 2, 3])"
            ]
          },
          "metadata": {},
          "execution_count": 1
        }
      ]
    },
    {
      "cell_type": "code",
      "source": [
        "arr_2d = np.array([[1, 2, 3], [4, 5, 6], [7, 8, 9]])\n",
        "\n",
        "arr_2d"
      ],
      "metadata": {
        "colab": {
          "base_uri": "https://localhost:8080/"
        },
        "id": "CaQVzAv2HZNJ",
        "outputId": "fabb5317-2bc8-4c9c-812a-48bebf1fcd70"
      },
      "execution_count": 2,
      "outputs": [
        {
          "output_type": "execute_result",
          "data": {
            "text/plain": [
              "array([[1, 2, 3],\n",
              "       [4, 5, 6],\n",
              "       [7, 8, 9]])"
            ]
          },
          "metadata": {},
          "execution_count": 2
        }
      ]
    },
    {
      "cell_type": "code",
      "source": [
        "arr.shape"
      ],
      "metadata": {
        "colab": {
          "base_uri": "https://localhost:8080/"
        },
        "id": "u66YoUKsIPre",
        "outputId": "86395bfc-e521-4108-f8d6-caa415b94941"
      },
      "execution_count": 3,
      "outputs": [
        {
          "output_type": "execute_result",
          "data": {
            "text/plain": [
              "(3,)"
            ]
          },
          "metadata": {},
          "execution_count": 3
        }
      ]
    },
    {
      "cell_type": "code",
      "source": [
        "arr_2d.shape"
      ],
      "metadata": {
        "colab": {
          "base_uri": "https://localhost:8080/"
        },
        "id": "9rucY60CIUWk",
        "outputId": "1b29a127-cf4a-4e2c-f8b3-1e050e3bdb97"
      },
      "execution_count": 4,
      "outputs": [
        {
          "output_type": "execute_result",
          "data": {
            "text/plain": [
              "(3, 3)"
            ]
          },
          "metadata": {},
          "execution_count": 4
        }
      ]
    },
    {
      "cell_type": "markdown",
      "source": [
        "## Numpy로 연산하기\n",
        "\n"
      ],
      "metadata": {
        "id": "ePhUzJZd4R8z"
      }
    },
    {
      "cell_type": "markdown",
      "source": [
        "### Vector와 Scalar 사이의 연산\n",
        "\n",
        "벡터의 각 원소에 대해서 연산을 진행"
      ],
      "metadata": {
        "id": "Y-CND9SV4OcZ"
      }
    },
    {
      "cell_type": "code",
      "source": [
        "x = np.array([1, 2, 3])\n",
        "c = 5\n",
        "\n",
        "print(\"더하기 : {}\".format(x + c))\n",
        "print(\"빼기 : {}\".format(x - c))\n",
        "print(\"곱하기 : {}\".format(x * c))\n",
        "print(\"나누기 : {}\".format(x / c))"
      ],
      "metadata": {
        "colab": {
          "base_uri": "https://localhost:8080/"
        },
        "id": "HDTRxDgRJFAf",
        "outputId": "bd8b2710-646c-4820-d344-74780484ad79"
      },
      "execution_count": 5,
      "outputs": [
        {
          "output_type": "stream",
          "name": "stdout",
          "text": [
            "더하기 : [6 7 8]\n",
            "빼기 : [-4 -3 -2]\n",
            "곱하기 : [ 5 10 15]\n",
            "나누기 : [0.2 0.4 0.6]\n"
          ]
        }
      ]
    },
    {
      "cell_type": "markdown",
      "source": [
        "### Vector와 Vector 사이의 연산\n",
        "\n",
        "벡터의 같은 인덱스끼리 연산이 진행!!"
      ],
      "metadata": {
        "id": "k3Dqg4uV4KsG"
      }
    },
    {
      "cell_type": "code",
      "source": [
        "y = np.array([1, 3, 5])\n",
        "z = np.array([2, 9, 20])\n",
        "\n",
        "print(\"더하기 : {}\".format(y + z))\n",
        "print(\"빼기 : {}\".format( y- z))\n",
        "print(\"곱하기 : {}\".format(y * z))\n",
        "print(\"나누기 : {}\".format(y / z))"
      ],
      "metadata": {
        "colab": {
          "base_uri": "https://localhost:8080/"
        },
        "id": "gKwa6zAZJ9-5",
        "outputId": "0ba1de29-7cfb-4948-8b2e-c8abbbfca25e"
      },
      "execution_count": 6,
      "outputs": [
        {
          "output_type": "stream",
          "name": "stdout",
          "text": [
            "더하기 : [ 3 12 25]\n",
            "빼기 : [ -1  -6 -15]\n",
            "곱하기 : [  2  27 100]\n",
            "나누기 : [0.5        0.33333333 0.25      ]\n"
          ]
        }
      ]
    },
    {
      "cell_type": "code",
      "source": [
        "## Array Indexing\n",
        "\n",
        "### Python의 리스트와 유사하게 진행"
      ],
      "metadata": {
        "id": "foEQbl9SKqbd"
      },
      "execution_count": 7,
      "outputs": []
    },
    {
      "cell_type": "code",
      "source": [
        "W = np.array([[1, 2, 3, 4],[5, 6, 7, 8],[9, 10, 11, 12]])\n",
        "\n",
        "W[0,0]\n"
      ],
      "metadata": {
        "colab": {
          "base_uri": "https://localhost:8080/"
        },
        "id": "ZL5byvYRLTWZ",
        "outputId": "8bb07c2a-ac28-4008-caf5-6621b27aef71"
      },
      "execution_count": 8,
      "outputs": [
        {
          "output_type": "execute_result",
          "data": {
            "text/plain": [
              "1"
            ]
          },
          "metadata": {},
          "execution_count": 8
        }
      ]
    },
    {
      "cell_type": "code",
      "source": [
        "W[2,3]"
      ],
      "metadata": {
        "colab": {
          "base_uri": "https://localhost:8080/"
        },
        "id": "lGHVFBkBLtT2",
        "outputId": "8edcbd6b-20e8-4f06-c4ab-04b66529ed1f"
      },
      "execution_count": 9,
      "outputs": [
        {
          "output_type": "execute_result",
          "data": {
            "text/plain": [
              "12"
            ]
          },
          "metadata": {},
          "execution_count": 9
        }
      ]
    },
    {
      "cell_type": "code",
      "source": [
        "# 7을 가져오려면?\n",
        "\n",
        "W[1,2]"
      ],
      "metadata": {
        "colab": {
          "base_uri": "https://localhost:8080/"
        },
        "id": "iNmxWCB5L_4c",
        "outputId": "c5ee61af-76b8-4f71-b16c-7218d1c8ff5a"
      },
      "execution_count": 10,
      "outputs": [
        {
          "output_type": "execute_result",
          "data": {
            "text/plain": [
              "7"
            ]
          },
          "metadata": {},
          "execution_count": 10
        }
      ]
    },
    {
      "cell_type": "markdown",
      "source": [
        "## Array Slicing\n",
        "\n",
        "Python의 리스트와 유사하게 진행"
      ],
      "metadata": {
        "id": "qjkxBMv14Fur"
      }
    },
    {
      "cell_type": "code",
      "source": [
        "W = np.array([[1, 2, 3, 4],[5, 6, 7, 8],[9, 10, 11, 12]])\n",
        "\n",
        "#2, 3 -> 행 : 인덱스 0~1 -> [0:2]\n",
        "#6, 7 -> 열 : 인덱스 1~2 -> [1:3]\n",
        "\n",
        "W[0:2, 1:3]"
      ],
      "metadata": {
        "colab": {
          "base_uri": "https://localhost:8080/"
        },
        "id": "Dv6f4ENkMj3F",
        "outputId": "581fc6f8-76cb-4f0d-ba87-9742a3f86813"
      },
      "execution_count": 11,
      "outputs": [
        {
          "output_type": "execute_result",
          "data": {
            "text/plain": [
              "array([[2, 3],\n",
              "       [6, 7]])"
            ]
          },
          "metadata": {},
          "execution_count": 11
        }
      ]
    },
    {
      "cell_type": "code",
      "source": [
        "W[0:2,0:4]"
      ],
      "metadata": {
        "colab": {
          "base_uri": "https://localhost:8080/"
        },
        "id": "OGbk5D2UyRrK",
        "outputId": "db256525-7b68-408d-863a-d0ea699b5f95"
      },
      "execution_count": 12,
      "outputs": [
        {
          "output_type": "execute_result",
          "data": {
            "text/plain": [
              "array([[1, 2, 3, 4],\n",
              "       [5, 6, 7, 8]])"
            ]
          },
          "metadata": {},
          "execution_count": 12
        }
      ]
    },
    {
      "cell_type": "code",
      "source": [
        "W[0:2]"
      ],
      "metadata": {
        "colab": {
          "base_uri": "https://localhost:8080/"
        },
        "id": "JycKokSpyqwj",
        "outputId": "e674297c-9217-4636-b89d-d1de56d1ef7c"
      },
      "execution_count": 13,
      "outputs": [
        {
          "output_type": "execute_result",
          "data": {
            "text/plain": [
              "array([[1, 2, 3, 4],\n",
              "       [5, 6, 7, 8]])"
            ]
          },
          "metadata": {},
          "execution_count": 13
        }
      ]
    },
    {
      "cell_type": "code",
      "source": [
        "W[0:2,:]"
      ],
      "metadata": {
        "colab": {
          "base_uri": "https://localhost:8080/"
        },
        "id": "8Gzhrv9NytLT",
        "outputId": "9bfca627-1f1d-4883-9f06-f1007f0f1179"
      },
      "execution_count": 14,
      "outputs": [
        {
          "output_type": "execute_result",
          "data": {
            "text/plain": [
              "array([[1, 2, 3, 4],\n",
              "       [5, 6, 7, 8]])"
            ]
          },
          "metadata": {},
          "execution_count": 14
        }
      ]
    },
    {
      "cell_type": "code",
      "source": [
        "W[0:3,2:4]"
      ],
      "metadata": {
        "colab": {
          "base_uri": "https://localhost:8080/"
        },
        "id": "7kkWzawUyxdw",
        "outputId": "2e31b21a-7f8c-45fe-9b63-7da829c14b48"
      },
      "execution_count": 15,
      "outputs": [
        {
          "output_type": "execute_result",
          "data": {
            "text/plain": [
              "array([[ 3,  4],\n",
              "       [ 7,  8],\n",
              "       [11, 12]])"
            ]
          },
          "metadata": {},
          "execution_count": 15
        }
      ]
    },
    {
      "cell_type": "code",
      "source": [
        "W[:,2:4]"
      ],
      "metadata": {
        "colab": {
          "base_uri": "https://localhost:8080/"
        },
        "id": "N3RUpyvOy_Bg",
        "outputId": "755dbaed-b3d6-45d1-8a02-0f55b51d0058"
      },
      "execution_count": 16,
      "outputs": [
        {
          "output_type": "execute_result",
          "data": {
            "text/plain": [
              "array([[ 3,  4],\n",
              "       [ 7,  8],\n",
              "       [11, 12]])"
            ]
          },
          "metadata": {},
          "execution_count": 16
        }
      ]
    },
    {
      "cell_type": "markdown",
      "source": [
        "## Array의 Broadcasting\n",
        "\n",
        "기본적으로 같은 Type의 data에 대해서만 연산이 적용 가능  \n",
        "하지만 만약에 피연산자가 연산 가능하도록 변환이 가능하다면 연산이 가능합니다.  \n",
        "이를 **Broadcasting** 이라고 합니다.\n",
        "\n",
        "### 1. M by N, M by 1"
      ],
      "metadata": {
        "id": "InI-z-jo36dn"
      }
    },
    {
      "cell_type": "code",
      "source": [
        "a = np.array([[1, 2, 3], [4, 5, 6], [7, 8, 9]])\n",
        "x = np.array([0, 1, 0])\n",
        "\n",
        "x = x[:, None]\n",
        "print(a+x)"
      ],
      "metadata": {
        "colab": {
          "base_uri": "https://localhost:8080/"
        },
        "id": "y98JJY5q2eUn",
        "outputId": "595fc38f-394c-4d34-ca4d-76ff78de90de"
      },
      "execution_count": 17,
      "outputs": [
        {
          "output_type": "stream",
          "name": "stdout",
          "text": [
            "[[1 2 3]\n",
            " [5 6 7]\n",
            " [7 8 9]]\n"
          ]
        }
      ]
    },
    {
      "cell_type": "markdown",
      "source": [
        "### 2. M by N, 1 by N\n"
      ],
      "metadata": {
        "id": "YOC7FiZ-454_"
      }
    },
    {
      "cell_type": "code",
      "source": [
        "y = np.array([0, 1, -1])\n",
        "\n",
        "print(a * y)"
      ],
      "metadata": {
        "colab": {
          "base_uri": "https://localhost:8080/"
        },
        "id": "sX37cyCJ5CZO",
        "outputId": "a4c91706-59fb-475e-ae1b-f971144e52eb"
      },
      "execution_count": 18,
      "outputs": [
        {
          "output_type": "stream",
          "name": "stdout",
          "text": [
            "[[ 0  2 -3]\n",
            " [ 0  5 -6]\n",
            " [ 0  8 -9]]\n"
          ]
        }
      ]
    },
    {
      "cell_type": "markdown",
      "source": [
        "### 3. M by N, 1 by N"
      ],
      "metadata": {
        "id": "Nh3pj5HU5bK1"
      }
    },
    {
      "cell_type": "code",
      "source": [
        "t = np.array([1, 2, 3]) # 열벡터로 바꿔줘야 함!\n",
        "t = t[:, None] # Transpose\n",
        "\n",
        "u = np.array([2, 0, -2])\n",
        "\n",
        "print(t + u)"
      ],
      "metadata": {
        "colab": {
          "base_uri": "https://localhost:8080/"
        },
        "id": "k7d_UzR55O-3",
        "outputId": "1fa9141d-b740-44a7-c714-15757d64f870"
      },
      "execution_count": 19,
      "outputs": [
        {
          "output_type": "stream",
          "name": "stdout",
          "text": [
            "[[ 3  1 -1]\n",
            " [ 4  2  0]\n",
            " [ 5  3  1]]\n"
          ]
        }
      ]
    },
    {
      "cell_type": "markdown",
      "source": [
        "# III. Numpy로 선형대수 지식 끼얹기\n",
        "\n",
        "### A. basis"
      ],
      "metadata": {
        "id": "lxaYBWTC9RyF"
      }
    },
    {
      "cell_type": "markdown",
      "source": [
        "### 영벡터\n",
        "\n",
        "- 원소가 모두 0인 벡터(행렬)\n",
        "- `np.zeros(dim)`을 통해 생성, dim은 값, 혹은 튜플(, )\n",
        "\n"
      ],
      "metadata": {
        "id": "ALR81KXt9jlB"
      }
    },
    {
      "cell_type": "code",
      "source": [
        "np.zeros(3)"
      ],
      "metadata": {
        "colab": {
          "base_uri": "https://localhost:8080/"
        },
        "id": "HCJ9D2gC99QC",
        "outputId": "a9ea5d2d-ceb9-4b61-ac34-88565b94e9f6"
      },
      "execution_count": 20,
      "outputs": [
        {
          "output_type": "execute_result",
          "data": {
            "text/plain": [
              "array([0., 0., 0.])"
            ]
          },
          "metadata": {},
          "execution_count": 20
        }
      ]
    },
    {
      "cell_type": "code",
      "source": [
        "np.zeros((3, 3, 3))"
      ],
      "metadata": {
        "colab": {
          "base_uri": "https://localhost:8080/"
        },
        "id": "Gg9-XLKd-DY7",
        "outputId": "4ea15760-04ff-4a07-c85c-faf4ab9802f4"
      },
      "execution_count": 21,
      "outputs": [
        {
          "output_type": "execute_result",
          "data": {
            "text/plain": [
              "array([[[0., 0., 0.],\n",
              "        [0., 0., 0.],\n",
              "        [0., 0., 0.]],\n",
              "\n",
              "       [[0., 0., 0.],\n",
              "        [0., 0., 0.],\n",
              "        [0., 0., 0.]],\n",
              "\n",
              "       [[0., 0., 0.],\n",
              "        [0., 0., 0.],\n",
              "        [0., 0., 0.]]])"
            ]
          },
          "metadata": {},
          "execution_count": 21
        }
      ]
    },
    {
      "cell_type": "markdown",
      "source": [
        "### 일행렬\n",
        "\n",
        "- 원소가 모두 1인 벡터(행렬)\n",
        "- `np.ones(dim)`을 통해 생성, dim은 값, 혹은 튜플(, )"
      ],
      "metadata": {
        "id": "zxhPp8n0_KFN"
      }
    },
    {
      "cell_type": "code",
      "source": [
        "np.ones(2)"
      ],
      "metadata": {
        "colab": {
          "base_uri": "https://localhost:8080/"
        },
        "id": "jmJUGtEg_Wmv",
        "outputId": "5d80f29c-b773-4d1c-9b72-cf218a362ab5"
      },
      "execution_count": 22,
      "outputs": [
        {
          "output_type": "execute_result",
          "data": {
            "text/plain": [
              "array([1., 1.])"
            ]
          },
          "metadata": {},
          "execution_count": 22
        }
      ]
    },
    {
      "cell_type": "code",
      "source": [
        "np.ones((3,3))"
      ],
      "metadata": {
        "colab": {
          "base_uri": "https://localhost:8080/"
        },
        "id": "Szh49Oz1_Z3C",
        "outputId": "f7536d7b-1e10-4bc5-b608-6f43ee5001da"
      },
      "execution_count": 23,
      "outputs": [
        {
          "output_type": "execute_result",
          "data": {
            "text/plain": [
              "array([[1., 1., 1.],\n",
              "       [1., 1., 1.],\n",
              "       [1., 1., 1.]])"
            ]
          },
          "metadata": {},
          "execution_count": 23
        }
      ]
    },
    {
      "cell_type": "markdown",
      "source": [
        "### 대각행렬\n",
        "\n",
        "- Main Diagonal을 제외한 성분이 0인 행렬\n",
        "- np.diag((main diagonals))을 통해 생성할 수 있음."
      ],
      "metadata": {
        "id": "780A46Mx_sSH"
      }
    },
    {
      "cell_type": "code",
      "source": [
        "np.diag((2,4))"
      ],
      "metadata": {
        "colab": {
          "base_uri": "https://localhost:8080/"
        },
        "id": "B0QgvaWuAKy7",
        "outputId": "76c5a002-3a20-4396-a165-51e6f5fa6045"
      },
      "execution_count": 24,
      "outputs": [
        {
          "output_type": "execute_result",
          "data": {
            "text/plain": [
              "array([[2, 0],\n",
              "       [0, 4]])"
            ]
          },
          "metadata": {},
          "execution_count": 24
        }
      ]
    },
    {
      "cell_type": "code",
      "source": [
        "np.diag((1,3,5))"
      ],
      "metadata": {
        "colab": {
          "base_uri": "https://localhost:8080/"
        },
        "id": "z1oQheeeAQXR",
        "outputId": "7a8d3823-365c-4221-8545-f3f365c83bff"
      },
      "execution_count": 25,
      "outputs": [
        {
          "output_type": "execute_result",
          "data": {
            "text/plain": [
              "array([[1, 0, 0],\n",
              "       [0, 3, 0],\n",
              "       [0, 0, 5]])"
            ]
          },
          "metadata": {},
          "execution_count": 25
        }
      ]
    },
    {
      "cell_type": "markdown",
      "source": [
        "### 항등행렬\n",
        "\n",
        "- main diagonal == 1인 diagonal matrix(대각 행렬)\n",
        "- `np.eye(n, (dtype=int, uint, float, complex, ... ))` 를 사용"
      ],
      "metadata": {
        "id": "luC7rg-HAZwF"
      }
    },
    {
      "cell_type": "code",
      "source": [
        "np.eye(2, dtype=int)"
      ],
      "metadata": {
        "colab": {
          "base_uri": "https://localhost:8080/"
        },
        "id": "9QvB5j1pBShd",
        "outputId": "d7ddbb7a-0c5a-43af-cbfc-d13e6c1e8995"
      },
      "execution_count": 26,
      "outputs": [
        {
          "output_type": "execute_result",
          "data": {
            "text/plain": [
              "array([[1, 0],\n",
              "       [0, 1]])"
            ]
          },
          "metadata": {},
          "execution_count": 26
        }
      ]
    },
    {
      "cell_type": "code",
      "source": [
        "np.eye(3)"
      ],
      "metadata": {
        "colab": {
          "base_uri": "https://localhost:8080/"
        },
        "id": "ToqhtpglBZcD",
        "outputId": "352bc67e-6f61-4ae0-994c-8ef7177745c3"
      },
      "execution_count": 27,
      "outputs": [
        {
          "output_type": "execute_result",
          "data": {
            "text/plain": [
              "array([[1., 0., 0.],\n",
              "       [0., 1., 0.],\n",
              "       [0., 0., 1.]])"
            ]
          },
          "metadata": {},
          "execution_count": 27
        }
      ]
    },
    {
      "cell_type": "markdown",
      "source": [
        "### 행렬곱\n",
        "\n",
        "- 행렬간에 정의되는 곱 연산(dot product)\n",
        "- 'np.dot()', '@'를 사용"
      ],
      "metadata": {
        "id": "RPJYGrUJB19P"
      }
    },
    {
      "cell_type": "code",
      "source": [
        "mat_1 = np.array([[1, 4], [2, 3]])\n",
        "mat_2 = np.array([[7, 9], [0, 6]])\n",
        "\n",
        "mat_1.dot(mat_2)"
      ],
      "metadata": {
        "colab": {
          "base_uri": "https://localhost:8080/"
        },
        "id": "VvoEI5hzDTzX",
        "outputId": "f9978ffd-a54e-4301-e4bb-cd770536ba24"
      },
      "execution_count": 28,
      "outputs": [
        {
          "output_type": "execute_result",
          "data": {
            "text/plain": [
              "array([[ 7, 33],\n",
              "       [14, 36]])"
            ]
          },
          "metadata": {},
          "execution_count": 28
        }
      ]
    },
    {
      "cell_type": "code",
      "source": [
        "mat_1 @ mat_2"
      ],
      "metadata": {
        "colab": {
          "base_uri": "https://localhost:8080/"
        },
        "id": "1BejWJilDsD4",
        "outputId": "a3027632-3574-4265-e37d-e14174202d74"
      },
      "execution_count": 29,
      "outputs": [
        {
          "output_type": "execute_result",
          "data": {
            "text/plain": [
              "array([[ 7, 33],\n",
              "       [14, 36]])"
            ]
          },
          "metadata": {},
          "execution_count": 29
        }
      ]
    },
    {
      "cell_type": "markdown",
      "source": [
        "### B. Furthermore"
      ],
      "metadata": {
        "id": "qkyDo_X0Ghds"
      }
    },
    {
      "cell_type": "markdown",
      "source": [
        "### 트레이스\n",
        "\n",
        "- Main Diagonal의 sum\n",
        "- `np.trace()` 을 사용"
      ],
      "metadata": {
        "id": "spATfmcKFATW"
      }
    },
    {
      "cell_type": "code",
      "source": [
        "arr = np.array([[1, 2, 3],[4, 5, 6],[7, 8, 9]])\n",
        "\n",
        "arr"
      ],
      "metadata": {
        "colab": {
          "base_uri": "https://localhost:8080/"
        },
        "id": "7cvoDLBsG4Rq",
        "outputId": "ca5a895f-a2e6-4e7e-b43f-fa21fe55fccb"
      },
      "execution_count": 30,
      "outputs": [
        {
          "output_type": "execute_result",
          "data": {
            "text/plain": [
              "array([[1, 2, 3],\n",
              "       [4, 5, 6],\n",
              "       [7, 8, 9]])"
            ]
          },
          "metadata": {},
          "execution_count": 30
        }
      ]
    },
    {
      "cell_type": "code",
      "source": [
        "arr.trace()"
      ],
      "metadata": {
        "colab": {
          "base_uri": "https://localhost:8080/"
        },
        "id": "H51MCUptHgSz",
        "outputId": "4a4622a3-8919-49b2-de47-8394797c5459"
      },
      "execution_count": 31,
      "outputs": [
        {
          "output_type": "execute_result",
          "data": {
            "text/plain": [
              "15"
            ]
          },
          "metadata": {},
          "execution_count": 31
        }
      ]
    },
    {
      "cell_type": "code",
      "source": [
        "np.eye(2,dtype=int).trace()"
      ],
      "metadata": {
        "colab": {
          "base_uri": "https://localhost:8080/"
        },
        "id": "txB6Bi2mHkSn",
        "outputId": "8ed2f479-7745-42e6-c8ce-3cbcaad205c9"
      },
      "execution_count": 32,
      "outputs": [
        {
          "output_type": "execute_result",
          "data": {
            "text/plain": [
              "2"
            ]
          },
          "metadata": {},
          "execution_count": 32
        }
      ]
    },
    {
      "cell_type": "markdown",
      "source": [
        "### 행렬식\n",
        "\n",
        "- 행렬을 대표하는 값 중 하나\n",
        "- 선형변환 과정에서 Vector의 Scaing 척도\n",
        "- `np.linalg.det()` 으로 계산\n",
        "\n"
      ],
      "metadata": {
        "id": "lU9oGiILHu48"
      }
    },
    {
      "cell_type": "code",
      "source": [
        "arr_2 = np.array([[2, 3],[1, 6]])\n",
        "\n",
        "arr_2"
      ],
      "metadata": {
        "colab": {
          "base_uri": "https://localhost:8080/"
        },
        "id": "wneTXEI7Jcnz",
        "outputId": "0c2a1d03-25b7-4177-f626-b4f1e46be62a"
      },
      "execution_count": 33,
      "outputs": [
        {
          "output_type": "execute_result",
          "data": {
            "text/plain": [
              "array([[2, 3],\n",
              "       [1, 6]])"
            ]
          },
          "metadata": {},
          "execution_count": 33
        }
      ]
    },
    {
      "cell_type": "code",
      "source": [
        "np.linalg.det(arr_2)"
      ],
      "metadata": {
        "colab": {
          "base_uri": "https://localhost:8080/"
        },
        "id": "aDurHR0tJwu6",
        "outputId": "6374a8d6-012d-49a4-ba1d-ffcb75e1f44f"
      },
      "execution_count": 34,
      "outputs": [
        {
          "output_type": "execute_result",
          "data": {
            "text/plain": [
              "9.000000000000002"
            ]
          },
          "metadata": {},
          "execution_count": 34
        }
      ]
    },
    {
      "cell_type": "code",
      "source": [
        "arr_3 = np.array([[1, 4, 7],[2, 5, 8],[3, 6, 9]])\n",
        "\n",
        "arr_3"
      ],
      "metadata": {
        "colab": {
          "base_uri": "https://localhost:8080/"
        },
        "id": "7-qyuV77J2GP",
        "outputId": "686f8ecf-c042-4c80-9395-82acf45b8cb7"
      },
      "execution_count": 35,
      "outputs": [
        {
          "output_type": "execute_result",
          "data": {
            "text/plain": [
              "array([[1, 4, 7],\n",
              "       [2, 5, 8],\n",
              "       [3, 6, 9]])"
            ]
          },
          "metadata": {},
          "execution_count": 35
        }
      ]
    },
    {
      "cell_type": "code",
      "source": [
        "np.linalg.det(arr_3)"
      ],
      "metadata": {
        "colab": {
          "base_uri": "https://localhost:8080/"
        },
        "id": "yD1qcDGZJ_3o",
        "outputId": "480106c2-3f09-434d-ae63-21a28bf6e7dd"
      },
      "execution_count": 36,
      "outputs": [
        {
          "output_type": "execute_result",
          "data": {
            "text/plain": [
              "0.0"
            ]
          },
          "metadata": {},
          "execution_count": 36
        }
      ]
    },
    {
      "cell_type": "markdown",
      "source": [
        "### 역행렬\n",
        "\n",
        "- 행렬 A에 대해서 AB = BA = I를 만족하는 행렬 B\n",
        "- `np.linalg.inv()` 을 사용\n"
      ],
      "metadata": {
        "id": "uSMTMgOoKOnM"
      }
    },
    {
      "cell_type": "code",
      "source": [
        "mat = np.array([[1, 4],[2, 3]])\n",
        "\n",
        "mat"
      ],
      "metadata": {
        "colab": {
          "base_uri": "https://localhost:8080/"
        },
        "id": "gJIqOeTrMWY4",
        "outputId": "59da9993-4a02-430f-ba0c-6f6f0225b33a"
      },
      "execution_count": 37,
      "outputs": [
        {
          "output_type": "execute_result",
          "data": {
            "text/plain": [
              "array([[1, 4],\n",
              "       [2, 3]])"
            ]
          },
          "metadata": {},
          "execution_count": 37
        }
      ]
    },
    {
      "cell_type": "code",
      "source": [
        "mat_inv = np.linalg.inv(mat)\n",
        "\n",
        "mat_inv"
      ],
      "metadata": {
        "colab": {
          "base_uri": "https://localhost:8080/"
        },
        "id": "MEbXhDzVMjXX",
        "outputId": "9dc05ee6-f103-430b-ecc4-9e07ba9e6c51"
      },
      "execution_count": 38,
      "outputs": [
        {
          "output_type": "execute_result",
          "data": {
            "text/plain": [
              "array([[-0.6,  0.8],\n",
              "       [ 0.4, -0.2]])"
            ]
          },
          "metadata": {},
          "execution_count": 38
        }
      ]
    },
    {
      "cell_type": "code",
      "source": [
        "mat @ mat_inv"
      ],
      "metadata": {
        "colab": {
          "base_uri": "https://localhost:8080/"
        },
        "id": "xJ3XJcIxMtOH",
        "outputId": "1f78c0fa-70a4-42a2-efc4-c129f4523077"
      },
      "execution_count": 39,
      "outputs": [
        {
          "output_type": "execute_result",
          "data": {
            "text/plain": [
              "array([[ 1.00000000e+00,  0.00000000e+00],\n",
              "       [-1.11022302e-16,  1.00000000e+00]])"
            ]
          },
          "metadata": {},
          "execution_count": 39
        }
      ]
    },
    {
      "cell_type": "code",
      "source": [
        "t = np.array([[1, 5, 7],[2, 1, 7],[1, 4, 3]])\n",
        "\n",
        "t"
      ],
      "metadata": {
        "colab": {
          "base_uri": "https://localhost:8080/"
        },
        "id": "4NAsiKnsMyt2",
        "outputId": "f30dc6ed-5f31-4646-f124-78996b2ba41e"
      },
      "execution_count": 40,
      "outputs": [
        {
          "output_type": "execute_result",
          "data": {
            "text/plain": [
              "array([[1, 5, 7],\n",
              "       [2, 1, 7],\n",
              "       [1, 4, 3]])"
            ]
          },
          "metadata": {},
          "execution_count": 40
        }
      ]
    },
    {
      "cell_type": "code",
      "source": [
        "r = np.linalg.inv(t)\n",
        "\n",
        "r"
      ],
      "metadata": {
        "colab": {
          "base_uri": "https://localhost:8080/"
        },
        "id": "iFkxpE9JNriB",
        "outputId": "9943d595-2167-4c3f-b641-68fb95f0d9e2"
      },
      "execution_count": 41,
      "outputs": [
        {
          "output_type": "execute_result",
          "data": {
            "text/plain": [
              "array([[-0.86206897,  0.44827586,  0.96551724],\n",
              "       [ 0.03448276, -0.13793103,  0.24137931],\n",
              "       [ 0.24137931,  0.03448276, -0.31034483]])"
            ]
          },
          "metadata": {},
          "execution_count": 41
        }
      ]
    },
    {
      "cell_type": "code",
      "source": [
        "r @ t"
      ],
      "metadata": {
        "colab": {
          "base_uri": "https://localhost:8080/"
        },
        "id": "7F38nSuGNsHG",
        "outputId": "67e92363-551f-436a-c0fd-19112de9a8b7"
      },
      "execution_count": 42,
      "outputs": [
        {
          "output_type": "execute_result",
          "data": {
            "text/plain": [
              "array([[ 1.00000000e+00,  4.44089210e-16, -1.11022302e-16],\n",
              "       [-2.77555756e-17,  1.00000000e+00, -1.11022302e-16],\n",
              "       [ 0.00000000e+00, -2.22044605e-16,  1.00000000e+00]])"
            ]
          },
          "metadata": {},
          "execution_count": 42
        }
      ]
    },
    {
      "cell_type": "markdown",
      "source": [
        "### 고유값과 고유벡터\n",
        "\n",
        "- 정방행렬(nxn) A에 대해서 *Ax* = λx 을 만족하는 λ와 x를 각각 고유값과 고유벡터라 한다.\n",
        "- `np.linald.eig()` 로 계산"
      ],
      "metadata": {
        "id": "IANFwNYwPi1E"
      }
    },
    {
      "cell_type": "code",
      "source": [
        "mat = np.array([[2, 0, -2],[1, 1, -2],[0, 0, 1]])\n",
        "\n",
        "mat"
      ],
      "metadata": {
        "colab": {
          "base_uri": "https://localhost:8080/"
        },
        "id": "iPoF7KeQTDGu",
        "outputId": "414af93c-3d1c-4c4e-afaf-67e1bd8df256"
      },
      "execution_count": 43,
      "outputs": [
        {
          "output_type": "execute_result",
          "data": {
            "text/plain": [
              "array([[ 2,  0, -2],\n",
              "       [ 1,  1, -2],\n",
              "       [ 0,  0,  1]])"
            ]
          },
          "metadata": {},
          "execution_count": 43
        }
      ]
    },
    {
      "cell_type": "code",
      "source": [
        "np.linalg.eig(mat)"
      ],
      "metadata": {
        "colab": {
          "base_uri": "https://localhost:8080/"
        },
        "id": "lkQo4sreTPa3",
        "outputId": "5c1964ac-37d2-4fdf-e8f3-920fc018ebb6"
      },
      "execution_count": 44,
      "outputs": [
        {
          "output_type": "execute_result",
          "data": {
            "text/plain": [
              "(array([1., 2., 1.]), array([[0.        , 0.70710678, 0.89442719],\n",
              "        [1.        , 0.70710678, 0.        ],\n",
              "        [0.        , 0.        , 0.4472136 ]]))"
            ]
          },
          "metadata": {},
          "execution_count": 44
        }
      ]
    },
    {
      "cell_type": "markdown",
      "source": [
        "#### Validation"
      ],
      "metadata": {
        "id": "edaLqZLhTfLs"
      }
    },
    {
      "cell_type": "code",
      "source": [
        "eig_val, eig_vec = np.linalg.eig(mat)\n",
        "\n",
        "eig_val"
      ],
      "metadata": {
        "colab": {
          "base_uri": "https://localhost:8080/"
        },
        "id": "zaiN5utaTirB",
        "outputId": "34b86a51-4232-4297-9810-f040df9ef2ad"
      },
      "execution_count": 45,
      "outputs": [
        {
          "output_type": "execute_result",
          "data": {
            "text/plain": [
              "array([1., 2., 1.])"
            ]
          },
          "metadata": {},
          "execution_count": 45
        }
      ]
    },
    {
      "cell_type": "code",
      "source": [
        "eig_vec"
      ],
      "metadata": {
        "colab": {
          "base_uri": "https://localhost:8080/"
        },
        "id": "W7-nd_RTTuG4",
        "outputId": "878c84c6-0a04-48b9-ba15-ca1a81e82ef8"
      },
      "execution_count": 46,
      "outputs": [
        {
          "output_type": "execute_result",
          "data": {
            "text/plain": [
              "array([[0.        , 0.70710678, 0.89442719],\n",
              "       [1.        , 0.70710678, 0.        ],\n",
              "       [0.        , 0.        , 0.4472136 ]])"
            ]
          },
          "metadata": {},
          "execution_count": 46
        }
      ]
    },
    {
      "cell_type": "code",
      "source": [
        "mat @ eig_vec[:, 0]  # Ax"
      ],
      "metadata": {
        "colab": {
          "base_uri": "https://localhost:8080/"
        },
        "id": "gGe3fmGrTydu",
        "outputId": "d5b3dc79-f6cb-4b49-d955-17d93112c6b2"
      },
      "execution_count": 47,
      "outputs": [
        {
          "output_type": "execute_result",
          "data": {
            "text/plain": [
              "array([0., 1., 0.])"
            ]
          },
          "metadata": {},
          "execution_count": 47
        }
      ]
    },
    {
      "cell_type": "code",
      "source": [
        "eig_val[0] * eig_vec[:, 0]  # (lambda)x"
      ],
      "metadata": {
        "colab": {
          "base_uri": "https://localhost:8080/"
        },
        "id": "q50UJMR7T5Vq",
        "outputId": "c751a9c4-5cf9-4493-fd28-e8e1a30a75ab"
      },
      "execution_count": 48,
      "outputs": [
        {
          "output_type": "execute_result",
          "data": {
            "text/plain": [
              "array([0., 1., 0.])"
            ]
          },
          "metadata": {},
          "execution_count": 48
        }
      ]
    }
  ]
}