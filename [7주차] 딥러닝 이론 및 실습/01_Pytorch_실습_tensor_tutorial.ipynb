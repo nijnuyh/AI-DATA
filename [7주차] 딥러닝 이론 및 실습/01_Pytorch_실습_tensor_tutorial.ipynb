{
  "nbformat": 4,
  "nbformat_minor": 0,
  "metadata": {
    "colab": {
      "name": "Pytorch 실습(1) tensor_tutorial",
      "provenance": [],
      "collapsed_sections": [],
      "authorship_tag": "ABX9TyMV4Bvs+rC/xbWlHmZQHBEK"
    },
    "kernelspec": {
      "name": "python3",
      "display_name": "Python 3"
    },
    "language_info": {
      "name": "python"
    },
    "accelerator": "GPU",
    "gpuClass": "standard"
  },
  "cells": [
    {
      "cell_type": "code",
      "execution_count": null,
      "metadata": {
        "id": "qfGgOVGpBb5b"
      },
      "outputs": [],
      "source": [
        "%matplotlib inline"
      ]
    },
    {
      "cell_type": "markdown",
      "source": [
        "## What is PyTorch?\n",
        "Python 기반의 과학 연산 패키지로 다음과 같은 두 집단을 대상으로 합니다:\n",
        "* NumPy를 대체하면서 GPU를 이용한 연산이 필요한 경우\n",
        "* 최대한의 유연성과 속도를 제공하는 딥러닝 연구 플랫폼이 필요한 경우\n",
        "\n",
        "### Getting Started\n",
        "\n",
        "Tensor는 NumPy의 ndarray와 유사하며, 추가로 GPU를 사용한 연산 가속도 가능합니다."
      ],
      "metadata": {
        "id": "YLTaCtM9CB6k"
      }
    },
    {
      "cell_type": "code",
      "source": [
        "from __future__ import print_function\n",
        "import torch\n",
        "\n",
        "torch.__version__"
      ],
      "metadata": {
        "colab": {
          "base_uri": "https://localhost:8080/",
          "height": 35
        },
        "id": "m8Vacm86Cqoi",
        "outputId": "459b2286-253f-40c2-bfc3-96bbd03a5f7f"
      },
      "execution_count": null,
      "outputs": [
        {
          "output_type": "execute_result",
          "data": {
            "text/plain": [
              "'1.12.1+cu113'"
            ],
            "application/vnd.google.colaboratory.intrinsic+json": {
              "type": "string"
            }
          },
          "metadata": {},
          "execution_count": 2
        }
      ]
    },
    {
      "cell_type": "markdown",
      "source": [
        "초기화되지않은 5x3 행렬을 생성합니다:"
      ],
      "metadata": {
        "id": "3CX-NYHIC1VN"
      }
    },
    {
      "cell_type": "code",
      "source": [
        "x = torch.empty(5, 3)\n",
        "print(x)"
      ],
      "metadata": {
        "colab": {
          "base_uri": "https://localhost:8080/"
        },
        "id": "8gkFcdW6C6Ks",
        "outputId": "afcad754-da62-49e2-e7de-1b883905a8b6"
      },
      "execution_count": null,
      "outputs": [
        {
          "output_type": "stream",
          "name": "stdout",
          "text": [
            "tensor([[9.4204e-35, 0.0000e+00, 3.3631e-44],\n",
            "        [0.0000e+00,        nan, 0.0000e+00],\n",
            "        [1.1578e+27, 1.1362e+30, 7.1547e+22],\n",
            "        [4.5828e+30, 1.2121e+04, 7.1846e+22],\n",
            "        [9.2198e-39, 7.0374e+22, 0.0000e+00]])\n"
          ]
        }
      ]
    },
    {
      "cell_type": "markdown",
      "source": [
        "무작위로 초기화된 행렬을 생성합니다:"
      ],
      "metadata": {
        "id": "9njw06wnDDMb"
      }
    },
    {
      "cell_type": "code",
      "source": [
        "x = torch.randn(5, 3)\n",
        "print(x)\n",
        "x = torch.rand(5, 3)\n",
        "print(x)"
      ],
      "metadata": {
        "colab": {
          "base_uri": "https://localhost:8080/"
        },
        "id": "_Ebn7xuCDTlO",
        "outputId": "85f059a4-2d5c-49e2-c2fd-0ece40a8d97a"
      },
      "execution_count": null,
      "outputs": [
        {
          "output_type": "stream",
          "name": "stdout",
          "text": [
            "tensor([[ 1.3382,  0.4777,  0.8953],\n",
            "        [ 2.1308, -0.7505, -0.0782],\n",
            "        [ 2.6869, -0.1692, -1.3915],\n",
            "        [-0.8857, -1.8811,  0.4709],\n",
            "        [ 1.2157,  1.0768, -0.8049]])\n",
            "tensor([[0.0893, 0.7360, 0.0614],\n",
            "        [0.6411, 0.9970, 0.1579],\n",
            "        [0.2621, 0.3656, 0.4518],\n",
            "        [0.2640, 0.6851, 0.4568],\n",
            "        [0.7427, 0.2521, 0.5869]])\n"
          ]
        }
      ]
    },
    {
      "cell_type": "markdown",
      "source": [
        "dtype이 long이고 0으로 채워진 행렬을 생성합니다:"
      ],
      "metadata": {
        "id": "4ak4ViPyEBj0"
      }
    },
    {
      "cell_type": "code",
      "source": [
        "x = torch.zeros(5, 3, dtype=torch.long)\n",
        "print(x)"
      ],
      "metadata": {
        "colab": {
          "base_uri": "https://localhost:8080/"
        },
        "id": "sfdQXgGnEPPn",
        "outputId": "d4f4e698-0f45-4c54-9e39-f8572d7e8db6"
      },
      "execution_count": null,
      "outputs": [
        {
          "output_type": "stream",
          "name": "stdout",
          "text": [
            "tensor([[0, 0, 0],\n",
            "        [0, 0, 0],\n",
            "        [0, 0, 0],\n",
            "        [0, 0, 0],\n",
            "        [0, 0, 0]])\n"
          ]
        }
      ]
    },
    {
      "cell_type": "code",
      "source": [
        "x = torch.ones(5, 3, dtype=torch.long)\n",
        "print(x)"
      ],
      "metadata": {
        "colab": {
          "base_uri": "https://localhost:8080/"
        },
        "id": "HKJGv-qzEWMG",
        "outputId": "969dce64-8c9c-4b8a-94f7-95b2a858b3c8"
      },
      "execution_count": null,
      "outputs": [
        {
          "output_type": "stream",
          "name": "stdout",
          "text": [
            "tensor([[1, 1, 1],\n",
            "        [1, 1, 1],\n",
            "        [1, 1, 1],\n",
            "        [1, 1, 1],\n",
            "        [1, 1, 1]])\n"
          ]
        }
      ]
    },
    {
      "cell_type": "markdown",
      "source": [
        "데이터로부터 tensor를 직접 생성합니다:"
      ],
      "metadata": {
        "id": "uLpnMD6JEjiT"
      }
    },
    {
      "cell_type": "code",
      "source": [
        "x = torch.tensor([5.5, 3])\n",
        "print(x)"
      ],
      "metadata": {
        "colab": {
          "base_uri": "https://localhost:8080/"
        },
        "id": "8TAcj0vLEnQ_",
        "outputId": "605d508c-272f-4639-d716-bc0053666653"
      },
      "execution_count": null,
      "outputs": [
        {
          "output_type": "stream",
          "name": "stdout",
          "text": [
            "tensor([5.5000, 3.0000])\n"
          ]
        }
      ]
    },
    {
      "cell_type": "markdown",
      "source": [
        "또는 존재하는 tensor를 바탕으로 tensor를 만듭니다. 이 메소드(method)들은 사용자로부터 제공된 새로운 값이 없는 한, 입력 tensor의 속성들(예. dtype)을 재사용합니다."
      ],
      "metadata": {
        "id": "noLWEqs5EuZD"
      }
    },
    {
      "cell_type": "code",
      "source": [
        "x = x.new_ones(5, 3, dtype=torch.double)    # new_* methods take in sizes\n",
        "print(x)\n",
        "\n",
        "x = torch.randn_like(x, dtype=torch.float)    # override dtype!\n",
        "print(x)                                      # result has the same size"
      ],
      "metadata": {
        "colab": {
          "base_uri": "https://localhost:8080/"
        },
        "id": "LAwcDifYFBYp",
        "outputId": "abfecb2a-8952-40cb-8c08-b79a9125c994"
      },
      "execution_count": null,
      "outputs": [
        {
          "output_type": "stream",
          "name": "stdout",
          "text": [
            "tensor([[1., 1., 1.],\n",
            "        [1., 1., 1.],\n",
            "        [1., 1., 1.],\n",
            "        [1., 1., 1.],\n",
            "        [1., 1., 1.]], dtype=torch.float64)\n",
            "tensor([[ 2.4870e-01, -7.4944e-02, -8.5755e-01],\n",
            "        [-6.6660e-02, -1.0803e-01, -4.2492e-01],\n",
            "        [-3.7811e-02, -2.4889e-03,  9.6557e-01],\n",
            "        [ 5.4836e-01,  3.6686e-01, -8.7512e-01],\n",
            "        [-7.8781e-01,  5.0094e-01,  2.6370e+00]])\n"
          ]
        }
      ]
    },
    {
      "cell_type": "markdown",
      "source": [
        "행렬의 크기를 구합니다:"
      ],
      "metadata": {
        "id": "WAY4YzUMFwHD"
      }
    },
    {
      "cell_type": "code",
      "source": [
        "print(x.size())\n",
        "print(x.shape)"
      ],
      "metadata": {
        "colab": {
          "base_uri": "https://localhost:8080/"
        },
        "id": "Lh3agG-FFypy",
        "outputId": "c88836a2-6bdd-480f-d155-07abd01e82b4"
      },
      "execution_count": null,
      "outputs": [
        {
          "output_type": "stream",
          "name": "stdout",
          "text": [
            "torch.Size([5, 3])\n",
            "torch.Size([5, 3])\n"
          ]
        }
      ]
    },
    {
      "cell_type": "markdown",
      "source": [
        "덧셈: 문법1"
      ],
      "metadata": {
        "id": "59vrh-_MF5IV"
      }
    },
    {
      "cell_type": "code",
      "source": [
        "y = torch.rand(5, 3)\n",
        "print(x)\n",
        "print(y)\n",
        "print(x + y)"
      ],
      "metadata": {
        "colab": {
          "base_uri": "https://localhost:8080/"
        },
        "id": "p2d8UMvXF7zC",
        "outputId": "51da703b-f910-45f2-f938-04cad0e07fee"
      },
      "execution_count": null,
      "outputs": [
        {
          "output_type": "stream",
          "name": "stdout",
          "text": [
            "tensor([[ 2.4870e-01, -7.4944e-02, -8.5755e-01],\n",
            "        [-6.6660e-02, -1.0803e-01, -4.2492e-01],\n",
            "        [-3.7811e-02, -2.4889e-03,  9.6557e-01],\n",
            "        [ 5.4836e-01,  3.6686e-01, -8.7512e-01],\n",
            "        [-7.8781e-01,  5.0094e-01,  2.6370e+00]])\n",
            "tensor([[9.9605e-02, 7.8829e-01, 7.0393e-04],\n",
            "        [3.7496e-01, 3.2786e-01, 6.9838e-01],\n",
            "        [3.1462e-01, 6.8866e-01, 9.6049e-01],\n",
            "        [7.3804e-01, 5.1684e-01, 3.5912e-01],\n",
            "        [2.4779e-01, 1.6826e-01, 8.9319e-02]])\n",
            "tensor([[ 0.3483,  0.7133, -0.8568],\n",
            "        [ 0.3083,  0.2198,  0.2735],\n",
            "        [ 0.2768,  0.6862,  1.9261],\n",
            "        [ 1.2864,  0.8837, -0.5160],\n",
            "        [-0.5400,  0.6692,  2.7263]])\n"
          ]
        }
      ]
    },
    {
      "cell_type": "markdown",
      "source": [
        "덧셈: 문법2"
      ],
      "metadata": {
        "id": "PtcngVaYGDAZ"
      }
    },
    {
      "cell_type": "code",
      "source": [
        "print(torch.add(x, y))"
      ],
      "metadata": {
        "colab": {
          "base_uri": "https://localhost:8080/"
        },
        "id": "UAgy2-htGFAg",
        "outputId": "5a7ae855-afb1-45a8-9424-59159d184c95"
      },
      "execution_count": null,
      "outputs": [
        {
          "output_type": "stream",
          "name": "stdout",
          "text": [
            "tensor([[ 0.3483,  0.7133, -0.8568],\n",
            "        [ 0.3083,  0.2198,  0.2735],\n",
            "        [ 0.2768,  0.6862,  1.9261],\n",
            "        [ 1.2864,  0.8837, -0.5160],\n",
            "        [-0.5400,  0.6692,  2.7263]])\n"
          ]
        }
      ]
    },
    {
      "cell_type": "markdown",
      "source": [
        "덧셈: 결과 tensor를 인자로 제공"
      ],
      "metadata": {
        "id": "u7UuAfy1GJER"
      }
    },
    {
      "cell_type": "code",
      "source": [
        "result = torch.empty(5, 3)\n",
        "print(result)\n",
        "\n",
        "torch.add(x, y, out=result)\n",
        "print(result)"
      ],
      "metadata": {
        "colab": {
          "base_uri": "https://localhost:8080/"
        },
        "id": "phzC4K40HGtb",
        "outputId": "5870a4dc-4a1b-46a1-8be0-81616f2e6dea"
      },
      "execution_count": null,
      "outputs": [
        {
          "output_type": "stream",
          "name": "stdout",
          "text": [
            "tensor([[ 9.4206e-35,  0.0000e+00, -8.5684e-01],\n",
            "        [ 3.0830e-01,  2.1984e-01,  2.7345e-01],\n",
            "        [ 2.7681e-01,  6.8617e-01,  1.9261e+00],\n",
            "        [ 1.2864e+00,  8.8370e-01, -5.1600e-01],\n",
            "        [-5.4001e-01,  6.6920e-01,  2.7263e+00]])\n",
            "tensor([[ 0.3483,  0.7133, -0.8568],\n",
            "        [ 0.3083,  0.2198,  0.2735],\n",
            "        [ 0.2768,  0.6862,  1.9261],\n",
            "        [ 1.2864,  0.8837, -0.5160],\n",
            "        [-0.5400,  0.6692,  2.7263]])\n"
          ]
        }
      ]
    },
    {
      "cell_type": "markdown",
      "source": [
        "덧셈: 바꿔치기(in-place)방식"
      ],
      "metadata": {
        "id": "BhVHEcpaHTb0"
      }
    },
    {
      "cell_type": "code",
      "source": [
        "# adds x to y\n",
        "print(y)\n",
        "y.add_(x)\n",
        "print(y)"
      ],
      "metadata": {
        "colab": {
          "base_uri": "https://localhost:8080/"
        },
        "id": "-0aSEOJjHZXE",
        "outputId": "4b96236b-6e62-4524-c809-5d95837e956e"
      },
      "execution_count": null,
      "outputs": [
        {
          "output_type": "stream",
          "name": "stdout",
          "text": [
            "tensor([[9.9605e-02, 7.8829e-01, 7.0393e-04],\n",
            "        [3.7496e-01, 3.2786e-01, 6.9838e-01],\n",
            "        [3.1462e-01, 6.8866e-01, 9.6049e-01],\n",
            "        [7.3804e-01, 5.1684e-01, 3.5912e-01],\n",
            "        [2.4779e-01, 1.6826e-01, 8.9319e-02]])\n",
            "tensor([[ 0.3483,  0.7133, -0.8568],\n",
            "        [ 0.3083,  0.2198,  0.2735],\n",
            "        [ 0.2768,  0.6862,  1.9261],\n",
            "        [ 1.2864,  0.8837, -0.5160],\n",
            "        [-0.5400,  0.6692,  2.7263]])\n"
          ]
        }
      ]
    },
    {
      "cell_type": "markdown",
      "source": [
        "**Note**\n",
        "\n",
        "바꿔치기(in-place)방식으로 tensor의 값을 변경하는 연산은 _ 를 접미사로 갖습니다.\n",
        "\n",
        "예: x.copy_(y), x.t_()는 x 를 변경합니다.\n",
        "\n",
        "NumPy스러운 인덱싱 표기 방법을 사용할 수도 있습니다!"
      ],
      "metadata": {
        "id": "aIH-BeFsHgXp"
      }
    },
    {
      "cell_type": "code",
      "source": [
        "print(x)\n",
        "print(x[:, 1])"
      ],
      "metadata": {
        "colab": {
          "base_uri": "https://localhost:8080/"
        },
        "id": "uW4FsfFNJH_m",
        "outputId": "304f22e3-b7f9-4c92-96c9-3b5a0a73ad23"
      },
      "execution_count": null,
      "outputs": [
        {
          "output_type": "stream",
          "name": "stdout",
          "text": [
            "tensor([[ 2.4870e-01, -7.4944e-02, -8.5755e-01],\n",
            "        [-6.6660e-02, -1.0803e-01, -4.2492e-01],\n",
            "        [-3.7811e-02, -2.4889e-03,  9.6557e-01],\n",
            "        [ 5.4836e-01,  3.6686e-01, -8.7512e-01],\n",
            "        [-7.8781e-01,  5.0094e-01,  2.6370e+00]])\n",
            "tensor([-0.0749, -0.1080, -0.0025,  0.3669,  0.5009])\n"
          ]
        }
      ]
    },
    {
      "cell_type": "markdown",
      "source": [
        "크기 변경: tensor의 크기(size)나 모양(shape)을 변경하고 싶다면 torch.view 를 사용합니다:"
      ],
      "metadata": {
        "id": "pnDeeX8cJPCw"
      }
    },
    {
      "cell_type": "code",
      "source": [
        "import torch\n",
        "\n",
        "x = torch.randn(4, 4)\n",
        "print(x)\n",
        "\n",
        "y = x.view(16)\n",
        "z = y.view(-1, 2)    # the size -1 is inferred from other dimensions\n",
        "print(y)\n",
        "print(z)\n",
        "print(y.size(), z.size())"
      ],
      "metadata": {
        "colab": {
          "base_uri": "https://localhost:8080/"
        },
        "id": "3AJrkQkXJWlY",
        "outputId": "0be81e56-0917-4db4-b469-36dedbc1c2ad"
      },
      "execution_count": null,
      "outputs": [
        {
          "output_type": "stream",
          "name": "stdout",
          "text": [
            "tensor([[-2.3012, -0.4504, -1.4243,  0.7892],\n",
            "        [-0.5334,  1.5245,  1.8638,  0.3871],\n",
            "        [ 0.5468,  0.4732,  0.1630, -1.6833],\n",
            "        [-0.7740,  1.1296,  0.6939, -0.6215]])\n",
            "tensor([-2.3012, -0.4504, -1.4243,  0.7892, -0.5334,  1.5245,  1.8638,  0.3871,\n",
            "         0.5468,  0.4732,  0.1630, -1.6833, -0.7740,  1.1296,  0.6939, -0.6215])\n",
            "tensor([[-2.3012, -0.4504],\n",
            "        [-1.4243,  0.7892],\n",
            "        [-0.5334,  1.5245],\n",
            "        [ 1.8638,  0.3871],\n",
            "        [ 0.5468,  0.4732],\n",
            "        [ 0.1630, -1.6833],\n",
            "        [-0.7740,  1.1296],\n",
            "        [ 0.6939, -0.6215]])\n",
            "torch.Size([16]) torch.Size([8, 2])\n"
          ]
        }
      ]
    },
    {
      "cell_type": "markdown",
      "source": [
        "만약 tensor에 하나의 값만 존재한다면, .item() 을 사용하면 숫자 값을 얻을 수 있습니다."
      ],
      "metadata": {
        "id": "X_75Xm2HKjq9"
      }
    },
    {
      "cell_type": "code",
      "source": [
        "x = torch.randn(1)\n",
        "print(x)\n",
        "print(type(x), type(x.item()))\n",
        "print(x.item())"
      ],
      "metadata": {
        "colab": {
          "base_uri": "https://localhost:8080/"
        },
        "id": "PxJdAOg-K4rU",
        "outputId": "b44b3d5e-aec6-4d0b-a605-83f9e7d47e12"
      },
      "execution_count": null,
      "outputs": [
        {
          "output_type": "stream",
          "name": "stdout",
          "text": [
            "tensor([-0.1754])\n",
            "<class 'torch.Tensor'> <class 'float'>\n",
            "-0.17535603046417236\n"
          ]
        }
      ]
    },
    {
      "cell_type": "markdown",
      "source": [
        "읽을 거리:\n",
        "\n",
        "전치(transposing), 인덱싱(indexing), 슬라이싱(slicing), 수학 계산, 선형 대수, 난수(random number) 등과 같은 100가지 이상의 Tensor 연산은 <http://pytorch.org/docs/torch> 에 설명되어 있습니다."
      ],
      "metadata": {
        "id": "430UwBdYLMaw"
      }
    },
    {
      "cell_type": "markdown",
      "source": [
        "### NumPy 변환(Bridge)\n",
        "Torch Tensor를 NumPy 배열(array)로 변환하거나, 그 반대로 하는 것은 매우 쉽습니다.\n",
        "\n",
        "(CPU 상의) Torch Tensor와 NumPy 배열은 저장 공간을 공유하기 때문에, 하나를 변경하면 다른 하나도 변경됩니다.\n",
        "* Torch Tensor를 NumPy 배열로 변환하기"
      ],
      "metadata": {
        "id": "WExyOs-3Lpox"
      }
    },
    {
      "cell_type": "code",
      "source": [
        "a = torch.ones(5)\n",
        "print(a)"
      ],
      "metadata": {
        "colab": {
          "base_uri": "https://localhost:8080/"
        },
        "id": "V84sSJ39MPdh",
        "outputId": "f460366c-ab0b-461c-fa8d-67b3f8c327d2"
      },
      "execution_count": null,
      "outputs": [
        {
          "output_type": "stream",
          "name": "stdout",
          "text": [
            "tensor([1., 1., 1., 1., 1.])\n"
          ]
        }
      ]
    },
    {
      "cell_type": "code",
      "source": [
        "b = a.numpy()\n",
        "print(b)"
      ],
      "metadata": {
        "colab": {
          "base_uri": "https://localhost:8080/"
        },
        "id": "JRlk3YscMUX6",
        "outputId": "f2b7ca86-ecc1-454c-e66f-9db4cb72e7f8"
      },
      "execution_count": null,
      "outputs": [
        {
          "output_type": "stream",
          "name": "stdout",
          "text": [
            "[1. 1. 1. 1. 1.]\n"
          ]
        }
      ]
    },
    {
      "cell_type": "markdown",
      "source": [
        "NumPy 배열의 값이 어떻게 변하는지 확인해보세요.\n"
      ],
      "metadata": {
        "id": "edOFO6Y5MaN5"
      }
    },
    {
      "cell_type": "code",
      "source": [
        "a.add_(1)\n",
        "print(a)\n",
        "print(b)"
      ],
      "metadata": {
        "colab": {
          "base_uri": "https://localhost:8080/"
        },
        "id": "trZ08p8-MfhW",
        "outputId": "d49acd4c-8d45-468b-c289-f512c072ce98"
      },
      "execution_count": null,
      "outputs": [
        {
          "output_type": "stream",
          "name": "stdout",
          "text": [
            "tensor([2., 2., 2., 2., 2.])\n",
            "[2. 2. 2. 2. 2.]\n"
          ]
        }
      ]
    },
    {
      "cell_type": "code",
      "source": [
        "temp = a.clone()\n",
        "temp_numpy = temp.numpy()\n",
        "\n",
        "a.add_(1)\n",
        "print(a)\n",
        "print(temp_numpy)"
      ],
      "metadata": {
        "colab": {
          "base_uri": "https://localhost:8080/"
        },
        "id": "5cLMQ1WwMm62",
        "outputId": "bd7d4f99-4602-42c5-ed0f-a9bdd5ce816c"
      },
      "execution_count": null,
      "outputs": [
        {
          "output_type": "stream",
          "name": "stdout",
          "text": [
            "tensor([3., 3., 3., 3., 3.])\n",
            "[2. 2. 2. 2. 2.]\n"
          ]
        }
      ]
    },
    {
      "cell_type": "markdown",
      "source": [
        "* NumPy 배열을 Torch Tensor로 변환하기\n",
        "\n",
        "NumPy(np) 배열을 변경하면 Torch Tensor의 값도 자동 변경되는 것을 확인해보세요."
      ],
      "metadata": {
        "id": "BSSixVdvM-rv"
      }
    },
    {
      "cell_type": "code",
      "source": [
        "import numpy as np\n",
        "a = np.ones(5)\n",
        "print(a)\n",
        "b = torch.from_numpy(a)\n",
        "np.add(a, 1, out=a)\n",
        "print(a)\n",
        "print(b)"
      ],
      "metadata": {
        "colab": {
          "base_uri": "https://localhost:8080/"
        },
        "id": "1E-hTJ_WNUQu",
        "outputId": "0fed3f12-8124-45fb-9017-f88f1464ccfd"
      },
      "execution_count": null,
      "outputs": [
        {
          "output_type": "stream",
          "name": "stdout",
          "text": [
            "[1. 1. 1. 1. 1.]\n",
            "[2. 2. 2. 2. 2.]\n",
            "tensor([2., 2., 2., 2., 2.], dtype=torch.float64)\n"
          ]
        }
      ]
    },
    {
      "cell_type": "markdown",
      "source": [
        "CharTensor를 제외한 CPU 상의 모든 Tensor는 NumPy로의 변환을 지원하며, (NumPy에서 Tensor로의) 반대 변환도 지원합니다."
      ],
      "metadata": {
        "id": "oiljILCUNmmL"
      }
    },
    {
      "cell_type": "markdown",
      "source": [
        "### CUDA Tensors\n",
        "\n",
        ".to 메소드를 사용하여 Tensor를 어떠한 장치로도 옮길 수 있습니다."
      ],
      "metadata": {
        "id": "d0OLv3KgN27R"
      }
    },
    {
      "cell_type": "code",
      "source": [
        "import torch\n",
        "\n",
        "# 이 코드는 CUDA가 사용 가능한 환경에서만 실행합니다.\n",
        "# ''torch.device'' 를 사용하여 tensor를 GPU 안팎으로 이동해보겠습니다.\n",
        "\n",
        "x = torch.rand(4,4)\n",
        "if torch.cuda.is_available():\n",
        "  device = \"cuda:0\"    # torch.device(\"cuda:0\")    # CUDA 장치 객체(device object)로\n",
        "  y = torch.ones_like(x, device=device)    # GPU 상에 직접적으로 tensor를 생성하거나\n",
        "  print(y)\n",
        "\n",
        "\n",
        "  x = x.to(device)    # ''.to(\"cuda\")'' 를 사용하면 됩니다.\n",
        "  z = x + y \n",
        "  print(z)\n",
        "  print(z.to(\"cpu\", torch.double))    # ''.to'' 는 dtype도 함께 변경합니다! "
      ],
      "metadata": {
        "colab": {
          "base_uri": "https://localhost:8080/"
        },
        "id": "2pWH9GSOO5Fq",
        "outputId": "caeb11da-e20f-485c-9e1a-e1b6ed0a91d6"
      },
      "execution_count": null,
      "outputs": [
        {
          "output_type": "stream",
          "name": "stdout",
          "text": [
            "tensor([[1., 1., 1., 1.],\n",
            "        [1., 1., 1., 1.],\n",
            "        [1., 1., 1., 1.],\n",
            "        [1., 1., 1., 1.]], device='cuda:0')\n",
            "tensor([[1.5506, 1.2256, 1.6839, 1.4287],\n",
            "        [1.3024, 1.0201, 1.4546, 1.7049],\n",
            "        [1.6554, 1.0459, 1.8942, 1.3968],\n",
            "        [1.6957, 1.5947, 1.9944, 1.4799]], device='cuda:0')\n",
            "tensor([[1.5506, 1.2256, 1.6839, 1.4287],\n",
            "        [1.3024, 1.0201, 1.4546, 1.7049],\n",
            "        [1.6554, 1.0459, 1.8942, 1.3968],\n",
            "        [1.6957, 1.5947, 1.9944, 1.4799]], dtype=torch.float64)\n"
          ]
        }
      ]
    },
    {
      "cell_type": "code",
      "source": [
        " x = x.cuda()"
      ],
      "metadata": {
        "id": "fLZ1mI9UPWsl"
      },
      "execution_count": null,
      "outputs": []
    }
  ]
}