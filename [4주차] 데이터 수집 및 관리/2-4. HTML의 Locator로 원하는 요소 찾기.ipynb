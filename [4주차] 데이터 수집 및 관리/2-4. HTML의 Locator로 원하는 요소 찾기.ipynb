{
  "nbformat": 4,
  "nbformat_minor": 0,
  "metadata": {
    "colab": {
      "provenance": [],
      "collapsed_sections": [],
      "authorship_tag": "ABX9TyOczUY0awTZeLmW1mn5uVfI"
    },
    "kernelspec": {
      "name": "python3",
      "display_name": "Python 3"
    },
    "language_info": {
      "name": "python"
    }
  },
  "cells": [
    {
      "cell_type": "markdown",
      "source": [
        "## 2-4. HTML의 Locator로 원하는 요소 찾기\n",
        "* `id`와 `class` 를 활용해 특정 요소를 지정해서 정보를 가져오는 방법을 학습해봅시다."
      ],
      "metadata": {
        "id": "uvwtZCk9-4nM"
      }
    },
    {
      "cell_type": "markdown",
      "source": [
        "### 그래, 바로 너! `id` 와 `class`\n",
        "\n",
        "태그는 자신의 이름 뿐만 아니라 고유한 속성 또한 가질 수 있습니다.\n",
        "\n",
        "이 중에서 `id`와 `class`는 Locator로서, 특정 태그를 지칭하는 데에 사용됩니다.\n",
        "* `tagname`: 태그의 이름\n",
        "* `id`: 하나의 고유 태그를 가리키는 라벨\n",
        "* `class`: 여러 태그를 묶는 라벨\n",
        "\n",
        "\n",
        "```\n",
        "<p>This element has only tagname</p>\n",
        "<p id=\"target\">This element has tagname and id</p>\n",
        "<p class=\"targets\">This element has tagname and class</p>\n",
        "```\n",
        "\n",
        "`id`와 `class`를 이용해서 HTML의 특정 태그를 지칭하고 가져오는 방법에 대해서 알아봅시다."
      ],
      "metadata": {
        "id": "nnkNh5zl_Kt7"
      }
    },
    {
      "cell_type": "code",
      "execution_count": null,
      "metadata": {
        "id": "3WU_ed0u-3aO"
      },
      "outputs": [],
      "source": [
        "# 스크래핑에 필요한 라이브러리를 불러와봅시다.\n",
        "\n",
        "import requests\n",
        "from bs4 import BeautifulSoup"
      ]
    },
    {
      "cell_type": "code",
      "source": [
        "## 아래 사이트에 요청을 보내고, 이것의 응답을 BeautifulSoup 객체로 만들어봅시다.\n",
        "# http://example.python-scraping.com/\n",
        "\n",
        "res = requests.get(\"http://example.python-scraping.com/\")\n",
        "\n",
        "soup = BeautifulSoup(res.text, \"html.parser\")"
      ],
      "metadata": {
        "id": "TUSvOSgfB3S-"
      },
      "execution_count": null,
      "outputs": []
    },
    {
      "cell_type": "markdown",
      "source": [
        "**`id` 를 이용해서 요소 가져오기**\n",
        "\n",
        "`id` 는 요소 하나를 지칭하는 특별한 별명입니다.(겹칠 수 없어요!)\n",
        "\n",
        "`id` 를 이용하면 해당하는 태그 단 하나를 쉽게 가져올 수 있습니다."
      ],
      "metadata": {
        "id": "kfn-uQbuCEKG"
      }
    },
    {
      "cell_type": "code",
      "source": [
        "## id 없이 div 태그를 찾아봅시다.\n",
        "\n",
        "soup.find(\"div\")"
      ],
      "metadata": {
        "colab": {
          "base_uri": "https://localhost:8080/"
        },
        "id": "pUVsxGFnCXf_",
        "outputId": "287dc4fc-620e-4fd7-af5f-56c26b939a34"
      },
      "execution_count": null,
      "outputs": [
        {
          "output_type": "execute_result",
          "data": {
            "text/plain": [
              "<div class=\"navbar navbar-inverse\">\n",
              "<div class=\"flash\"></div>\n",
              "<div class=\"navbar-inner\">\n",
              "<div class=\"container\">\n",
              "<!-- the next tag is necessary for bootstrap menus, do not remove -->\n",
              "<button class=\"btn btn-navbar\" data-target=\".nav-collapse\" data-toggle=\"collapse\" style=\"display:none;\" type=\"button\">\n",
              "<span class=\"icon-bar\"></span>\n",
              "<span class=\"icon-bar\"></span>\n",
              "<span class=\"icon-bar\"></span>\n",
              "</button>\n",
              "<ul class=\"nav pull-right\" id=\"navbar\"><li class=\"dropdown\"><a class=\"dropdown-toggle\" data-toggle=\"dropdown\" href=\"#\" rel=\"nofollow\">Log In</a><ul class=\"dropdown-menu\"><li><a href=\"/places/default/user/register?_next=/places/default/index\" rel=\"nofollow\"><i class=\"icon icon-user glyphicon glyphicon-user\"></i> Sign Up</a></li><li class=\"divider\"></li><li><a href=\"/places/default/user/login?_next=/places/default/index\" rel=\"nofollow\"><i class=\"icon icon-off glyphicon glyphicon-off\"></i> Log In</a></li></ul></li></ul>\n",
              "<div class=\"nav\">\n",
              "<ul class=\"nav\"><li class=\"web2py-menu-first\"><a href=\"/places/default/index\">Home</a></li><li class=\"web2py-menu-last\"><a href=\"/places/default/search\">Search</a></li></ul>\n",
              "</div><!--/.nav-collapse -->\n",
              "</div>\n",
              "</div>\n",
              "</div>"
            ]
          },
          "metadata": {},
          "execution_count": 5
        }
      ]
    },
    {
      "cell_type": "code",
      "source": [
        "## id가 results인 div 태그를 찾아봅시다.\n",
        "\n",
        "soup.find(\"div\", id=\"results\")"
      ],
      "metadata": {
        "colab": {
          "base_uri": "https://localhost:8080/"
        },
        "id": "hHZwGRyeCbs0",
        "outputId": "6c36f262-9838-492f-eef2-0265c9c5ddef"
      },
      "execution_count": null,
      "outputs": [
        {
          "output_type": "execute_result",
          "data": {
            "text/plain": [
              "<div id=\"results\">\n",
              "<table><tr><td><div><a href=\"/places/default/view/Afghanistan-1\"><img src=\"/places/static/images/flags/af.png\"/> Afghanistan</a></div></td><td><div><a href=\"/places/default/view/Aland-Islands-2\"><img src=\"/places/static/images/flags/ax.png\"/> Aland Islands</a></div></td></tr><tr><td><div><a href=\"/places/default/view/Albania-3\"><img src=\"/places/static/images/flags/al.png\"/> Albania</a></div></td><td><div><a href=\"/places/default/view/Algeria-4\"><img src=\"/places/static/images/flags/dz.png\"/> Algeria</a></div></td></tr><tr><td><div><a href=\"/places/default/view/American-Samoa-5\"><img src=\"/places/static/images/flags/as.png\"/> American Samoa</a></div></td><td><div><a href=\"/places/default/view/Andorra-6\"><img src=\"/places/static/images/flags/ad.png\"/> Andorra</a></div></td></tr><tr><td><div><a href=\"/places/default/view/Angola-7\"><img src=\"/places/static/images/flags/ao.png\"/> Angola</a></div></td><td><div><a href=\"/places/default/view/Anguilla-8\"><img src=\"/places/static/images/flags/ai.png\"/> Anguilla</a></div></td></tr><tr><td><div><a href=\"/places/default/view/Antarctica-9\"><img src=\"/places/static/images/flags/aq.png\"/> Antarctica</a></div></td><td><div><a href=\"/places/default/view/Antigua-and-Barbuda-10\"><img src=\"/places/static/images/flags/ag.png\"/> Antigua and Barbuda</a></div></td></tr></table>\n",
              "</div>"
            ]
          },
          "metadata": {},
          "execution_count": 6
        }
      ]
    },
    {
      "cell_type": "markdown",
      "source": [
        "**`class` 를 이용해서 요소(들) 가져오기**\n",
        "\n",
        "`class` 는 유사한 요소들을 구분짓는 별명입니다.\n",
        "\n",
        "`class`를 이용하면 해당하는 태그 하나*혹은 여러개)를 쉽게 가져올 수 있습니다.\n",
        "\n",
        "e.g. 차트 속의 데이터 등"
      ],
      "metadata": {
        "id": "Q0AYw6tDD8mu"
      }
    },
    {
      "cell_type": "code",
      "source": [
        "# class가 \"page-header\"인 div 태그를 찾아봅시다.\n",
        "\n",
        "find_result = soup.find(\"div\", \"page-header\")"
      ],
      "metadata": {
        "id": "nd243MfdDzxc"
      },
      "execution_count": null,
      "outputs": []
    },
    {
      "cell_type": "markdown",
      "source": [
        "이는 객체이므로 다음과 같은 접근을 진행할 수 있겠죠?"
      ],
      "metadata": {
        "id": "rrAymhchD8NO"
      }
    },
    {
      "cell_type": "code",
      "source": [
        "# 위 결과에서 text 값을 깔끔하게 가져와봅시다.\n",
        "\n",
        "find_result"
      ],
      "metadata": {
        "colab": {
          "base_uri": "https://localhost:8080/"
        },
        "id": "CIqI7zJLEZla",
        "outputId": "8d725c2e-d25d-4b8f-f77c-db03cec75ac2"
      },
      "execution_count": null,
      "outputs": [
        {
          "output_type": "execute_result",
          "data": {
            "text/plain": [
              "<div class=\"page-header\">\n",
              "<h1>\n",
              "                    Example web scraping website\n",
              "                    <small></small>\n",
              "</h1>\n",
              "</div>"
            ]
          },
          "metadata": {},
          "execution_count": 9
        }
      ]
    },
    {
      "cell_type": "code",
      "source": [
        "find_result.h1.text.strip()"
      ],
      "metadata": {
        "colab": {
          "base_uri": "https://localhost:8080/",
          "height": 35
        },
        "id": "BXyuukK9ExTC",
        "outputId": "ab894422-9371-4879-9677-766c932d1704"
      },
      "execution_count": null,
      "outputs": [
        {
          "output_type": "execute_result",
          "data": {
            "text/plain": [
              "'Example web scraping website'"
            ],
            "application/vnd.google.colaboratory.intrinsic+json": {
              "type": "string"
            }
          },
          "metadata": {},
          "execution_count": 11
        }
      ]
    }
  ]
}