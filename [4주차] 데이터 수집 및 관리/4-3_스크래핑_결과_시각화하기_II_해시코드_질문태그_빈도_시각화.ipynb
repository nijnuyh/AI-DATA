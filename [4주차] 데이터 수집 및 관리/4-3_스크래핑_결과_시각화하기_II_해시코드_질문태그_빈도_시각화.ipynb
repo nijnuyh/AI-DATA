{
  "cells": [
    {
      "cell_type": "markdown",
      "metadata": {
        "id": "Dw6bVES1BLke"
      },
      "source": [
        "## 4-3. 스크래핑 결과 시각화하기 II - 해시코드 질문태그 빈도 시각화\n",
        "* bs4와 Seaborn을 이용해서 질문의 주제 빈도를 보여주는 시각화를 진행해봅시다."
      ]
    },
    {
      "cell_type": "markdown",
      "metadata": {
        "id": "wi-eSuBRBXl8"
      },
      "source": [
        "### Target: 해시코드 질문 태그의 빈도 확인\n",
        "이전에 진행한 해시코드(https://hashcode.co.kr) 사이트에선 다양한 질문이 올라왔는데,\n",
        "\n",
        "질문제목 아래에 \"태그\"가 있었습니다.\n",
        "\n",
        "이 태그의 빈도를 측정하면 어떤 주제의 질문이 많이 올라오는지 알 수 있을 것 같습니다.\n",
        "\n",
        "이를 스크래핑 후 시각화해봅시다."
      ]
    },
    {
      "cell_type": "code",
      "execution_count": null,
      "metadata": {
        "id": "kvkXPOk-BE0g"
      },
      "outputs": [],
      "source": [
        "# 다음 User-Agent를 추가해봅시다.\n",
        "user_agent = \"Mozilla/5.0 (Windows NT 10.0; Win64; x64) AppleWebKit/537.36 (KHTML, like Gecko) Chrome/103.0.0.0 Safari/537.36\""
      ]
    },
    {
      "cell_type": "code",
      "execution_count": null,
      "metadata": {
        "colab": {
          "base_uri": "https://localhost:8080/"
        },
        "id": "NuoJTfUuCFUt",
        "outputId": "0879142b-71de-4d4f-c348-82b27955074c"
      },
      "outputs": [
        {
          "output_type": "stream",
          "name": "stdout",
          "text": [
            "{'css': 6, 'html': 6, 'java': 35, 'python': 244, 'crawling': 4, 'selenium': 12, 'algorithm': 3, 'list': 14, 'class': 5, 'private': 1, 'openpyxl': 3, 'c#': 4, 'web-crawling': 3, 'javascript': 11, 'python3': 3, 'selenium-webdrive': 2, 'random': 2, 'tuple': 2, 'pyinstaller': 2, 'mysql': 2, 'dataframe': 8, 'pandas': 13, 'function': 5, 'canvas': 1, 'fabric': 1, 'iterator': 1, 'c': 41, 'c++': 26, 'array': 9, 'advertisement': 1, 'node.js': 4, 'regression-analysis': 1, 'logistic-regression': 1, 'statsmodels': 1, 'oop': 1, 'program': 2, 'eclipse': 2, 'runtime-error': 1, 'dump': 1, 'flutter': 2, 'react': 2, 'webview': 1, 'error': 8, 'dev-c++': 1, 'dictionary': 5, 'qt': 2, 'qt-designer': 2, 'typescript': 2, 'environment-variables': 1, 'for': 10, 'preprocessor': 1, 'ai': 3, 'and': 1, 'tkinter': 4, 'socket': 2, 'loops': 5, 'header': 1, 'python3.6.1': 1, 'len': 1, 'linux': 6, 'python-2.7': 2, 'application': 1, 'idle': 1, 'pointer': 2, 'while-loop': 6, 'android-studio': 7, 'server': 2, 'connect': 1, 'tcp': 1, 'csv': 3, 'recursive': 3, 'write': 1, 'developer': 1, 'recyclerview': 2, 'stack': 1, 'tree': 1, 'r': 2, 'abstract-class': 1, 'arduino': 3, 'eoferror': 1, 'file': 2, 'txt': 2, 'macos': 1, 'pyside2': 2, 'firebase': 1, 'datetime': 3, 'date': 1, 'sorting': 1, 'jupyter-notebook': 3, 'konlpy': 1, 'text-mining': 1, 'matrix': 2, 'lambda': 1, 'machine-learning': 2, 'project': 1, 'syntax-error': 1, 'button': 1, 'event': 1, 'matlab': 1, 'time': 1, 'django': 4, 'api': 2, 'google-chrome': 1, 'numpy': 6, 'windows': 1, 'korean': 2, 'timedelta': 1, 'postfix': 1, 'swap': 1, 'opengl': 2, 'matplotlib': 3, 'split': 2, 'android': 10, 'method': 2, 'config': 1, 'parser': 1, 'xml': 1, 'pyqt5': 3, 'mobile': 1, 'index': 1, 'tensorflow': 1, 'format': 1, 'github': 3, 'image': 4, 'upload': 1, 'script': 1, 'recursion': 2, 'mfc': 3, 'jsp': 2, 'servlet': 1, 'web': 1, 'unity': 1, 'coding-test': 1, 'pygame': 1, 'regex': 4, 'figcaption': 1, 'def': 2, 'global-variable': 1, 'bash': 3, 'reference': 1, 'virtual-functions': 1, 'data': 1, 'formatt': 1, 'emulator': 1, 'kotlin': 4, 'android-asynctask': 1, 'opencv': 2, 'casting': 1, 'anaconda': 3, 'json': 2, 'map': 1, 'input': 2, 'jupyter': 2, 'sklearn': 1, 'unicode': 1, 'cpu': 1, '2d-array': 1, 'pyqt': 1, 'visual-studio': 1, 'winapi': 2, 'module': 1, 'primes': 2, 'binary-search': 1, 'rgb': 1, 'permissions': 2, 'coding': 7, 'sqlite3': 2, 'segmentation-fault': 2, 'shell': 3, 'if문': 3, 'programming': 2, 'terminal': 1, 'grep': 2, 'dynamic-allocation': 1, 'replace': 1, 'conditional-statement': 2, 'cv2': 1, 'gui': 2, 'visual': 1, 'object': 1, 'if-else': 1, 'ubuntu': 3, 'binary': 1, 'math': 1, 'stt': 1, 'bluetooth': 1, 'label': 1, 'excel': 1, 'geolocation': 1, 'char': 2, 'scraping': 1, 'turtle': 2, 'flex': 1, 'operator-overloading': 1, 'querying': 1, 'orm': 1, 'sqlite': 1, 'data-structure': 1, 'binary-tree': 1, 'thread': 1, 'vscode': 1, 'raspberry-pi': 1, 'pop': 1, 'push': 2, 'inheritance': 1, 'constructor': 2, 'boolean': 1, 'calculate': 1, '3d': 1, 'php': 4, 'putty': 1, 'file-io': 1, 'pycharm': 1, '용량': 1, 'oracle': 1, 'install': 1, 'code': 1, 'deep-learning': 1, 'scrollbar': 1, 'duplicate': 1, 'string': 1, 'print': 1, 'emoji': 1, 'regexp': 1, 'list-comprehension': 1}\n"
          ]
        }
      ],
      "source": [
        "# 필요한 라이브러리를 불러온 후, 요청을 진행해봅시다.\n",
        "# 질문의 빈도를 체크하는 dict를 만든 후, 빈도를 체크해봅시다.\n",
        "\n",
        "frequency = {}\n",
        "\n",
        "import requests\n",
        "from bs4 import BeautifulSoup\n",
        "\n",
        "for i in range(1, 11):\n",
        "    res = requests.get(\"https://hashcode.co.kr/?page={}\".format(i), user_agent)\n",
        "    soup = BeautifulSoup(res.text, \"html.parser\")\n",
        "\n",
        "# 1. ul 태그를 모두 찾기\n",
        "# 2. 1번 안에 있는 li 태그의 text를 추출\n",
        "\n",
        "    ul_tags = soup.find_all(\"ul\", \"question-tags\")\n",
        "    for ul in ul_tags:\n",
        "        li_tags = ul.find_all(\"li\")\n",
        "        for li in li_tags:\n",
        "            tag = li.text.strip()\n",
        "            if tag not in frequency:\n",
        "                frequency[tag] = 1\n",
        "            else:\n",
        "                frequency[tag] += 1\n",
        "    time.sleep(0.5)\n",
        "\n",
        "print(frequency)                "
      ]
    },
    {
      "cell_type": "code",
      "execution_count": null,
      "metadata": {
        "colab": {
          "base_uri": "https://localhost:8080/"
        },
        "id": "PR1DZhrBCfkl",
        "outputId": "382e61bc-48b5-4a62-cc9e-314e3293bbbb"
      },
      "outputs": [
        {
          "output_type": "execute_result",
          "data": {
            "text/plain": [
              "[('python', 244),\n",
              " ('c', 41),\n",
              " ('java', 35),\n",
              " ('c++', 26),\n",
              " ('list', 14),\n",
              " ('pandas', 13),\n",
              " ('selenium', 12),\n",
              " ('javascript', 11),\n",
              " ('for', 10),\n",
              " ('android', 10)]"
            ]
          },
          "metadata": {},
          "execution_count": 14
        }
      ],
      "source": [
        "# Counter를 사용해 가장 빈도가 높은 value들을 추출합니다.\n",
        "\n",
        "from collections import Counter\n",
        "\n",
        "counter = Counter(frequency)\n",
        "\n",
        "counter.most_common(10)"
      ]
    },
    {
      "cell_type": "code",
      "execution_count": null,
      "metadata": {
        "colab": {
          "base_uri": "https://localhost:8080/",
          "height": 283
        },
        "id": "6y1vGy4kCfdI",
        "outputId": "3e0babe7-2447-4d97-ec51-3f94888d59fb"
      },
      "outputs": [
        {
          "output_type": "execute_result",
          "data": {
            "text/plain": [
              "<matplotlib.axes._subplots.AxesSubplot at 0x7fd78a8a6c10>"
            ]
          },
          "metadata": {},
          "execution_count": 15
        },
        {
          "output_type": "display_data",
          "data": {
            "text/plain": [
              "<Figure size 432x288 with 1 Axes>"
            ],
            "image/png": "[encoded data removed]"
          },
          "metadata": {
            "needs_background": "light"
          }
        }
      ],
      "source": [
        "# Seaborn을 이용해 이를 Barplot으로 그립니다.\n",
        "\n",
        "import seaborn as sns\n",
        "\n",
        "x = [elem[0] for elem in counter.most_common(10)]\n",
        "y = [elem[1] for elem in counter.most_common(10)]\n",
        "\n",
        "sns.barplot(x=x, y=y)"
      ]
    },
    {
      "cell_type": "code",
      "execution_count": null,
      "metadata": {
        "colab": {
          "base_uri": "https://localhost:8080/",
          "height": 447
        },
        "id": "3l-aJme2CfWW",
        "outputId": "3255126a-bbe5-41ee-9c28-3799fa97615f"
      },
      "outputs": [
        {
          "output_type": "display_data",
          "data": {
            "text/plain": [
              "<Figure size 1440x720 with 1 Axes>"
            ],
            "image/png": "[encoded data removed]"
          },
          "metadata": {
            "needs_background": "light"
          }
        }
      ],
      "source": [
        "# figure, xlabel, ylabel, title을 적절하게 설정해서 시각화를 완성해봅시다.\n",
        "\n",
        "import matplotlib.pyplot as plt\n",
        "\n",
        "plt.figure(figsize=(20, 10))\n",
        "plt.title(\"Frequency of question in Hashcode\")\n",
        "plt.xlabel(\"Tag\")\n",
        "plt.ylabel(\"Frequency\")\n",
        "\n",
        "sns.barplot(x=x, y=y)\n",
        "\n",
        "plt.show()"
      ]
    }
  ],
  "metadata": {
    "colab": {
      "collapsed_sections": [],
      "provenance": [],
      "authorship_tag": "ABX9TyPWqwYchWahA4g2vKjVsuMa"
    },
    "kernelspec": {
      "display_name": "Python 3",
      "name": "python3"
    },
    "language_info": {
      "name": "python"
    }
  },
  "nbformat": 4,
  "nbformat_minor": 0
}