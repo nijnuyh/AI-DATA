{
  "nbformat": 4,
  "nbformat_minor": 0,
  "metadata": {
    "colab": {
      "provenance": [],
      "collapsed_sections": [],
      "authorship_tag": "ABX9TyPoybiEl1qKtToMSnVisSMI"
    },
    "kernelspec": {
      "name": "python3",
      "display_name": "Python 3"
    },
    "language_info": {
      "name": "python"
    }
  },
  "cells": [
    {
      "cell_type": "markdown",
      "source": [
        "## 2-3. 원하는 요소 가져오기 I - 책 이름 모으기\n",
        "* 연습만이 살길! 예시 사이트를 통해 스크래핑을 진행해봅시다."
      ],
      "metadata": {
        "id": "Dchn49ao41kx"
      }
    },
    {
      "cell_type": "markdown",
      "source": [
        "### Target: Mock Book Data\n",
        "\n",
        "다음 사이트에 있는 책들의 이름 정보를 스크래핑 해봅시다: http://books.toscrape.com/catalogue/category/books/travel_2/index.html\n",
        "\n",
        "해당 웹 페이지는 임의의 책 정보가 담긴 웹 사이트입니다."
      ],
      "metadata": {
        "id": "YR8udyYy5BTU"
      }
    },
    {
      "cell_type": "code",
      "source": [
        "# 스크래핑에 필요한 라이브러리를 불러와봅시다.\n",
        "\n",
        "import requests\n",
        "from bs4 import BeautifulSoup"
      ],
      "metadata": {
        "id": "UP2DLHjG5eXD"
      },
      "execution_count": null,
      "outputs": []
    },
    {
      "cell_type": "code",
      "execution_count": null,
      "metadata": {
        "id": "-OdsIo-D40l9"
      },
      "outputs": [],
      "source": [
        "# 예시 사이트에 요청을 진행하고, 응답을 바탕으로 BeautifulSoup 객체를 만들어봅시다.\n",
        "\n",
        "res = requests.get(\"http://books.toscrape.com/catalogue/category/books/travel_2/index.html\")\n",
        "\n",
        "soup = BeautifulSoup(res.text, \"html.parser\")"
      ]
    },
    {
      "cell_type": "code",
      "source": [
        "# <h3> 태그에 해당하는 요소를 하나 찾아봅시다.\n",
        "\n",
        "book = soup.find(\"h3\")"
      ],
      "metadata": {
        "id": "BCbc6OOq5mth"
      },
      "execution_count": null,
      "outputs": []
    },
    {
      "cell_type": "code",
      "source": [
        "# <h3> 태그에 해당하는 요소를 모두 찾아봅시다.\n",
        "\n",
        "h3_results = soup.find_all(\"h3\") \n",
        "h3_results[0]"
      ],
      "metadata": {
        "colab": {
          "base_uri": "https://localhost:8080/"
        },
        "id": "bEUC0mLA5myZ",
        "outputId": "32ad6e3a-e839-4a33-f4dc-0c06f2a27078"
      },
      "execution_count": null,
      "outputs": [
        {
          "output_type": "execute_result",
          "data": {
            "text/plain": [
              "<h3><a href=\"../../../its-only-the-himalayas_981/index.html\" title=\"It's Only the Himalayas\">It's Only the Himalayas</a></h3>"
            ]
          },
          "metadata": {},
          "execution_count": 14
        }
      ]
    },
    {
      "cell_type": "markdown",
      "source": [
        "찾아온 데이터들은 모두 객체이므로, 저희가 익숙한 방식대로 데이터를 추출할 수 있습니다."
      ],
      "metadata": {
        "id": "XRiSbp_i5wuM"
      }
    },
    {
      "cell_type": "code",
      "source": [
        "# book list에서 우리가 원하는 제목(title)만 추출해봅시다.\n",
        "\n",
        "for book in h3_results:\n",
        "    print(book.a[\"title\"])"
      ],
      "metadata": {
        "colab": {
          "base_uri": "https://localhost:8080/"
        },
        "id": "Qa6gugFo53nO",
        "outputId": "84f68495-3b87-4014-8876-4c5184049dbe"
      },
      "execution_count": null,
      "outputs": [
        {
          "output_type": "stream",
          "name": "stdout",
          "text": [
            "It's Only the Himalayas\n",
            "Full Moon over Noahâs Ark: An Odyssey to Mount Ararat and Beyond\n",
            "See America: A Celebration of Our National Parks & Treasured Sites\n",
            "Vagabonding: An Uncommon Guide to the Art of Long-Term World Travel\n",
            "Under the Tuscan Sun\n",
            "A Summer In Europe\n",
            "The Great Railway Bazaar\n",
            "A Year in Provence (Provence #1)\n",
            "The Road to Little Dribbling: Adventures of an American in Britain (Notes From a Small Island #2)\n",
            "Neither Here nor There: Travels in Europe\n",
            "1,000 Places to See Before You Die\n"
          ]
        }
      ]
    },
    {
      "cell_type": "markdown",
      "source": [
        "이 데이터들을 리스트와 같은 컨테이너에 넣어 추후에 활용할 수 있겠죠! :)"
      ],
      "metadata": {
        "id": "8Pi7sB2a88QB"
      }
    }
  ]
}