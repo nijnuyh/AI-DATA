{
  "nbformat": 4,
  "nbformat_minor": 0,
  "metadata": {
    "colab": {
      "provenance": [],
      "collapsed_sections": [],
      "authorship_tag": "ABX9TyMZ8N3bssidstdKVN5Xh0yM"
    },
    "kernelspec": {
      "name": "python3",
      "display_name": "Python 3"
    },
    "language_info": {
      "name": "python"
    }
  },
  "cells": [
    {
      "cell_type": "markdown",
      "source": [
        "# 1-3. 나의 첫 HTTP 통신 코드\n",
        "* python의 `requests` 라이브러리를 이용해 HTTP 통신을 진행해봅시다.\n",
        "\n",
        "\n",
        "\n"
      ],
      "metadata": {
        "id": "JaaHTyqIOdwY"
      }
    },
    {
      "cell_type": "markdown",
      "source": [
        "## request 라이브러리\n",
        "* `requests` 는 Python을 이용해서 간단히 HTTP 통신을 진행할 수 있는 라이브러리입니다.\n",
        "\n",
        "이를 사용하기 위해서는 먼저 `requests` 라이브러리를 설치해야합니다. \n",
        "\n",
        "`pip install` 을 통해서 이를 간단하게 실행할 수 있습니다.\n",
        "\n",
        "\n",
        "> Tip: `%` 를 이용해서 노트북(.ipynb) 환경에서 터미널 코드를 실행할 수 있습니다.\n",
        "\n",
        "\n",
        "\n",
        "\n",
        "\n"
      ],
      "metadata": {
        "id": "diHxE6G3O2Wf"
      }
    },
    {
      "cell_type": "code",
      "execution_count": 1,
      "metadata": {
        "colab": {
          "base_uri": "https://localhost:8080/"
        },
        "id": "LXg8Yt6LMD_e",
        "outputId": "388d4a15-8c06-4cfb-de27-e35f3184f2b1"
      },
      "outputs": [
        {
          "output_type": "stream",
          "name": "stdout",
          "text": [
            "Looking in indexes: https://pypi.org/simple, https://us-python.pkg.dev/colab-wheels/public/simple/\n",
            "Requirement already satisfied: requests in /usr/local/lib/python3.7/dist-packages (2.23.0)\n",
            "Requirement already satisfied: idna<3,>=2.5 in /usr/local/lib/python3.7/dist-packages (from requests) (2.10)\n",
            "Requirement already satisfied: urllib3!=1.25.0,!=1.25.1,<1.26,>=1.21.1 in /usr/local/lib/python3.7/dist-packages (from requests) (1.24.3)\n",
            "Requirement already satisfied: chardet<4,>=3.0.2 in /usr/local/lib/python3.7/dist-packages (from requests) (3.0.4)\n",
            "Requirement already satisfied: certifi>=2017.4.17 in /usr/local/lib/python3.7/dist-packages (from requests) (2022.9.24)\n"
          ]
        }
      ],
      "source": [
        "# 노트북(.ipynb) 환경에서 requests 모듈을 설치해봅시다.\n",
        "\n",
        "%pip install requests"
      ]
    },
    {
      "cell_type": "markdown",
      "source": [
        "설치를 다 진행했다면, 이제 requests 모듈을 사용할 준비가 되었습니다.\n",
        "\n",
        "이제 이를 바탕으로 HTTP 요청을 진행해보러 가볼까요?"
      ],
      "metadata": {
        "id": "yQH62ng0P7Kf"
      }
    },
    {
      "cell_type": "markdown",
      "source": [
        "## 정보를 달라고 요청하기, GET"
      ],
      "metadata": {
        "id": "S_0rWsZBQHG3"
      }
    },
    {
      "cell_type": "code",
      "source": [
        "# requestss 라이브러리를 불러온 후, NAVER의 홈 페이지를 요청한 후 응답 받아보기\n",
        "\n",
        "import requests\n",
        "\n",
        "res = requests.get(\"http://www.naver.com\")\n",
        "\n",
        "res  # HTTP응답이 담겨있음."
      ],
      "metadata": {
        "colab": {
          "base_uri": "https://localhost:8080/"
        },
        "id": "IssAZRlyMIno",
        "outputId": "8bcdfbab-3d13-4541-ddd4-f88493bc406d"
      },
      "execution_count": 2,
      "outputs": [
        {
          "output_type": "execute_result",
          "data": {
            "text/plain": [
              "<Response [200]>"
            ]
          },
          "metadata": {},
          "execution_count": 2
        }
      ]
    },
    {
      "cell_type": "code",
      "source": [
        "# Header를 확인해봅시다. : .headers\n",
        "\n",
        "res.headers"
      ],
      "metadata": {
        "colab": {
          "base_uri": "https://localhost:8080/"
        },
        "id": "gHh0HCapMd1D",
        "outputId": "37b5cac9-176c-4b5f-b1a4-f700c3b79a44"
      },
      "execution_count": 3,
      "outputs": [
        {
          "output_type": "execute_result",
          "data": {
            "text/plain": [
              "{'Server': 'NWS', 'Content-Type': 'text/html; charset=UTF-8', 'Cache-Control': 'no-cache, no-store, must-revalidate', 'Pragma': 'no-cache', 'P3P': 'CP=\"CAO DSP CURa ADMa TAIa PSAa OUR LAW STP PHY ONL UNI PUR FIN COM NAV INT DEM STA PRE\"', 'X-Frame-Options': 'DENY', 'X-XSS-Protection': '1; mode=block', 'Strict-Transport-Security': 'max-age=63072000; includeSubdomains', 'Referrer-Policy': 'unsafe-url', 'Content-Encoding': 'gzip', 'Content-Length': '53617', 'Date': 'Sun, 30 Oct 2022 16:20:41 GMT', 'Connection': 'keep-alive', 'Vary': 'Accept-Encoding'}"
            ]
          },
          "metadata": {},
          "execution_count": 3
        }
      ]
    },
    {
      "cell_type": "code",
      "source": [
        "# Body를 텍스트 형태로 확인해봅시다. : .text\n",
        "\n",
        "res.text[:1000]"
      ],
      "metadata": {
        "colab": {
          "base_uri": "https://localhost:8080/",
          "height": 146
        },
        "id": "rg-3GpYRMpq6",
        "outputId": "b12b6c8f-9370-4d03-a904-6f82c5ccce39"
      },
      "execution_count": 4,
      "outputs": [
        {
          "output_type": "execute_result",
          "data": {
            "text/plain": [
              "'\\n<!doctype html>                          <html lang=\"ko\" data-dark=\"false\"> <head> <meta charset=\"utf-8\"> <title>NAVER</title> <meta http-equiv=\"X-UA-Compatible\" content=\"IE=edge\"> <meta name=\"viewport\" content=\"width=1190\"> <meta name=\"apple-mobile-web-app-title\" content=\"NAVER\"/> <meta name=\"robots\" content=\"index,nofollow\"/> <meta name=\"description\" content=\"네이버 메인에서 다양한 정보와 유용한 컨텐츠를 만나 보세요\"/> <meta property=\"og:title\" content=\"네이버\"> <meta property=\"og:url\" content=\"https://www.naver.com/\"> <meta property=\"og:image\" content=\"https://s.pstatic.net/static/www/mobile/edit/2016/0705/mobile_212852414260.png\"> <meta property=\"og:description\" content=\"네이버 메인에서 다양한 정보와 유용한 컨텐츠를 만나 보세요\"/> <meta name=\"twitter:card\" content=\"summary\"> <meta name=\"twitter:title\" content=\"\"> <meta name=\"twitter:url\" content=\"https://www.naver.com/\"> <meta name=\"twitter:image\" content=\"https://s.pstatic.net/static/www/mobile/edit/2016/0705/mobile_212852414260.png\"> <meta name=\"twitter:description\" content=\"네이버 메'"
            ],
            "application/vnd.google.colaboratory.intrinsic+json": {
              "type": "string"
            }
          },
          "metadata": {},
          "execution_count": 4
        }
      ]
    },
    {
      "cell_type": "markdown",
      "source": [
        "## 정보 갱신하는 것을 요청하기, POST\n",
        "그렇다면 이렇게 항상 정보를 가져오는 경우만 있습니다.\n",
        "\n",
        "아닙니다. 우리는 우리의 정보를 제공해주면서 서버로 하여금 무언가 요청을 진행할 때도 있습니다. \n",
        "\n",
        "우리가 매일 진행하는, **로그인**이 바로 그 예시죠.\n",
        "\n",
        "\n",
        "이러한 요청을 처리하는 HTTP Method 가 있는데, 바로 POST입니다.\n",
        "\n",
        "POST를 활용하기 위해 다음 사이트를 이용해보도록 하겠습니다. :http://webhook.site"
      ],
      "metadata": {
        "id": "B2XUo4jOQpEx"
      }
    },
    {
      "cell_type": "code",
      "source": [
        "# payload와 함께 POST를 보내봅시다 : requests.post()\n",
        "payload = {\"name\": \"Hello\", \"age\": 13}\n",
        "\n",
        "res = requests.post(\"https://webhook.site/95ec9621-2a54-4a13-8920-12d356f555a0\",payload)"
      ],
      "metadata": {
        "id": "SXQgYpCaMxGF"
      },
      "execution_count": 5,
      "outputs": []
    },
    {
      "cell_type": "markdown",
      "source": [
        "응답의 상태 코드를 통해 응답이 잘 왔는지 확인해볼까요?"
      ],
      "metadata": {
        "id": "4Sp3AIG1Rq_q"
      }
    },
    {
      "cell_type": "code",
      "source": [
        "# 상태 코드(status code)를 확인해봅시다 : .status_code\n",
        "\n",
        "res.status_code"
      ],
      "metadata": {
        "colab": {
          "base_uri": "https://localhost:8080/"
        },
        "id": "iHzYigzLN_7u",
        "outputId": "93813a57-ce08-4002-e7bb-df9ef807e4b8"
      },
      "execution_count": 6,
      "outputs": [
        {
          "output_type": "execute_result",
          "data": {
            "text/plain": [
              "404"
            ]
          },
          "metadata": {},
          "execution_count": 6
        }
      ]
    }
  ]
}