{
  "nbformat": 4,
  "nbformat_minor": 0,
  "metadata": {
    "colab": {
      "provenance": [],
      "collapsed_sections": [],
      "authorship_tag": "ABX9TyOUmLU3f0zxXZJ8NAn14rpi"
    },
    "kernelspec": {
      "name": "python3",
      "display_name": "Python 3"
    },
    "language_info": {
      "name": "python"
    }
  },
  "cells": [
    {
      "cell_type": "markdown",
      "source": [
        "## 2-2. 파이썬의 HTML Parser, BeautifulSoup\n",
        "* HTML 분석기인 BeautifulSoup에 대해서 알아봅시다."
      ],
      "metadata": {
        "id": "vODkjTa_mo7L"
      }
    },
    {
      "cell_type": "markdown",
      "source": [
        "### BeautifulSoup 라이브러리\n",
        "\n",
        "지난 실습들에서 저희는 `requests` 모듈을 이용해서 HTTP 요청을 보내고, 이 응답을 받아 여러 요소를 살펴보았습니다.\n",
        "\n",
        "그런데, `res.body` 를 해보았을 때 문제점이 있었습니다. 바로 해당 내용이 아주 긴 텍스트로 와서 분석하기 힘들다는 것이 바로 그것인데요,\n",
        "\n",
        "**저희가 원하는 요소만을 가져올 수 있으면 얼마나 좋을까요?**\n",
        "\n",
        "이를 가능하도록 HTML 코드를 **분석**해주는, HTML Parser를 사용할 수 있었습니다. 그 중에서 가장 유명한 것이 바로 오늘 저희가 사용할 `BeautifulSoup4` 입니다.\n",
        "\n",
        "우선, 이를 사용하기 위해서 `pip` 를 사용해 다운로드를 받아봅시다.\n",
        "\n",
        "> Tip: `%`를 이용해서 노트북(.ipynb) 환경에서 터미널코드를 실행할 수 있습니다.\n",
        "\n"
      ],
      "metadata": {
        "id": "h4u4k6i6m2SH"
      }
    },
    {
      "cell_type": "code",
      "execution_count": 1,
      "metadata": {
        "id": "57d4pObImoKl",
        "colab": {
          "base_uri": "https://localhost:8080/"
        },
        "outputId": "32defeab-ee72-4e7c-82e9-d9a7b0307054"
      },
      "outputs": [
        {
          "output_type": "stream",
          "name": "stdout",
          "text": [
            "Looking in indexes: https://pypi.org/simple, https://us-python.pkg.dev/colab-wheels/public/simple/\n",
            "Requirement already satisfied: BeautifulSoup4 in /usr/local/lib/python3.7/dist-packages (4.6.3)\n"
          ]
        }
      ],
      "source": [
        "%pip install BeautifulSoup4"
      ]
    },
    {
      "cell_type": "markdown",
      "source": [
        "설치를 다 진행했다면, 이제 `BeautifulSoup4`모듈을 사용할 준비가 되었습니다.\n",
        "\n",
        "이제 이를 바탕으로 HTTP 코드를 분석해 원하는 정보만을 얻으러 가볼까요?"
      ],
      "metadata": {
        "id": "HKjCBfwpn9UX"
      }
    },
    {
      "cell_type": "markdown",
      "source": [
        "### BeautifulSoup 객체 만들기"
      ],
      "metadata": {
        "id": "PRaBFXapoNJ7"
      }
    },
    {
      "cell_type": "code",
      "source": [
        "# 모듈 불러오기\n",
        "\n",
        "import requests\n",
        "\n",
        "# www.example.com 사이트를 요청한 후 응답 받아보기\n",
        "\n",
        "res = requests.get(\"http://www.example.com\")\n",
        "\n",
        "res.text"
      ],
      "metadata": {
        "id": "-k4cwVgkz77k",
        "colab": {
          "base_uri": "https://localhost:8080/",
          "height": 164
        },
        "outputId": "8bd07cdd-daa3-4388-b104-32f9e3165b0c"
      },
      "execution_count": 2,
      "outputs": [
        {
          "output_type": "execute_result",
          "data": {
            "text/plain": [
              "'<!doctype html>\\n<html>\\n<head>\\n    <title>Example Domain</title>\\n\\n    <meta charset=\"utf-8\" />\\n    <meta http-equiv=\"Content-type\" content=\"text/html; charset=utf-8\" />\\n    <meta name=\"viewport\" content=\"width=device-width, initial-scale=1\" />\\n    <style type=\"text/css\">\\n    body {\\n        background-color: #f0f0f2;\\n        margin: 0;\\n        padding: 0;\\n        font-family: -apple-system, system-ui, BlinkMacSystemFont, \"Segoe UI\", \"Open Sans\", \"Helvetica Neue\", Helvetica, Arial, sans-serif;\\n        \\n    }\\n    div {\\n        width: 600px;\\n        margin: 5em auto;\\n        padding: 2em;\\n        background-color: #fdfdff;\\n        border-radius: 0.5em;\\n        box-shadow: 2px 3px 7px 2px rgba(0,0,0,0.02);\\n    }\\n    a:link, a:visited {\\n        color: #38488f;\\n        text-decoration: none;\\n    }\\n    @media (max-width: 700px) {\\n        div {\\n            margin: 0 auto;\\n            width: auto;\\n        }\\n    }\\n    </style>    \\n</head>\\n\\n<body>\\n<div>\\n    <h1>Example Domain</h1>\\n    <p>This domain is for use in illustrative examples in documents. You may use this\\n    domain in literature without prior coordination or asking for permission.</p>\\n    <p><a href=\"https://www.iana.org/domains/example\">More information...</a></p>\\n</div>\\n</body>\\n</html>\\n'"
            ],
            "application/vnd.google.colaboratory.intrinsic+json": {
              "type": "string"
            }
          },
          "metadata": {},
          "execution_count": 2
        }
      ]
    },
    {
      "cell_type": "markdown",
      "source": [
        "저희가 지난 시간까지 다음과 같은 방법을 통해 요청을 보내고 응답을 받았는데요,\n",
        "\n",
        "이렇게 받은 res 를 그대로 사용하지 말고, HTML parser에 전달해봅시다."
      ],
      "metadata": {
        "id": "oiw18GRj0BMf"
      }
    },
    {
      "cell_type": "code",
      "source": [
        "# BeautifulSoup4 - bs4를 불러와봅시다\n",
        "\n",
        "from bs4 import BeautifulSoup"
      ],
      "metadata": {
        "id": "juSYryAk0LsT"
      },
      "execution_count": 3,
      "outputs": []
    },
    {
      "cell_type": "markdown",
      "source": [
        "이렇게 불러온 bs4를 사용하기 위해선, BeautifulSoup 객체를 생성해주어야합니다."
      ],
      "metadata": {
        "id": "MGb_N2hg0Qym"
      }
    },
    {
      "cell_type": "code",
      "source": [
        "# BeautifulSoup 객체를 만들어봅시다.\n",
        "# 첫번째 인자로는 response의 body를 텍스트로 전달합니다.\n",
        "# 두번째 인자로는 \"html\"로 분석한다는 것을 명시해줍니다.\n",
        "\n",
        "soup = BeautifulSoup(res.text, \"html.parser\")"
      ],
      "metadata": {
        "id": "jHFV7mG40XAU"
      },
      "execution_count": 4,
      "outputs": []
    },
    {
      "cell_type": "markdown",
      "source": [
        "이 soup은 HTML 정보를 분석해서 가지고 있습니다. 이를 확인해볼까요?"
      ],
      "metadata": {
        "id": "6XryRkjP1rww"
      }
    },
    {
      "cell_type": "code",
      "source": [
        "# 객체 soup의 .prettify()를 활용하면 분석된 HTML을 보기 편하게 반환해줍니다.\n",
        "\n",
        "print(soup.prettify())"
      ],
      "metadata": {
        "id": "V_dXpKp21xni",
        "colab": {
          "base_uri": "https://localhost:8080/"
        },
        "outputId": "dd68e1b0-6b0c-44cb-a694-9b6e3bd87609"
      },
      "execution_count": 5,
      "outputs": [
        {
          "output_type": "stream",
          "name": "stdout",
          "text": [
            "<!DOCTYPE doctype html>\n",
            "<html>\n",
            " <head>\n",
            "  <title>\n",
            "   Example Domain\n",
            "  </title>\n",
            "  <meta charset=\"utf-8\"/>\n",
            "  <meta content=\"text/html; charset=utf-8\" http-equiv=\"Content-type\"/>\n",
            "  <meta content=\"width=device-width, initial-scale=1\" name=\"viewport\"/>\n",
            "  <style type=\"text/css\">\n",
            "   body {\n",
            "        background-color: #f0f0f2;\n",
            "        margin: 0;\n",
            "        padding: 0;\n",
            "        font-family: -apple-system, system-ui, BlinkMacSystemFont, \"Segoe UI\", \"Open Sans\", \"Helvetica Neue\", Helvetica, Arial, sans-serif;\n",
            "        \n",
            "    }\n",
            "    div {\n",
            "        width: 600px;\n",
            "        margin: 5em auto;\n",
            "        padding: 2em;\n",
            "        background-color: #fdfdff;\n",
            "        border-radius: 0.5em;\n",
            "        box-shadow: 2px 3px 7px 2px rgba(0,0,0,0.02);\n",
            "    }\n",
            "    a:link, a:visited {\n",
            "        color: #38488f;\n",
            "        text-decoration: none;\n",
            "    }\n",
            "    @media (max-width: 700px) {\n",
            "        div {\n",
            "            margin: 0 auto;\n",
            "            width: auto;\n",
            "        }\n",
            "    }\n",
            "  </style>\n",
            " </head>\n",
            " <body>\n",
            "  <div>\n",
            "   <h1>\n",
            "    Example Domain\n",
            "   </h1>\n",
            "   <p>\n",
            "    This domain is for use in illustrative examples in documents. You may use this\n",
            "    domain in literature without prior coordination or asking for permission.\n",
            "   </p>\n",
            "   <p>\n",
            "    <a href=\"https://www.iana.org/domains/example\">\n",
            "     More information...\n",
            "    </a>\n",
            "   </p>\n",
            "  </div>\n",
            " </body>\n",
            "</html>\n",
            "\n"
          ]
        }
      ]
    },
    {
      "cell_type": "markdown",
      "source": [
        "HTML 이 들여쓰기가 되어 예쁘게 출력된 것을 확인할 수 있습니다.\n",
        "\n",
        "이 soup 객체를 통해서 우리는 HTML의 특정 요소를 가지고 올 수 있습니다."
      ],
      "metadata": {
        "id": "0PnF7vnc181R"
      }
    },
    {
      "cell_type": "markdown",
      "source": [
        "`# title 가져오기`\n"
      ],
      "metadata": {
        "id": "noj6baS7YrOn"
      }
    },
    {
      "cell_type": "code",
      "source": [
        "soup.title"
      ],
      "metadata": {
        "id": "au_FX1mQ2Fj_",
        "colab": {
          "base_uri": "https://localhost:8080/"
        },
        "outputId": "d4a14930-26e9-4213-9aca-703b21277580"
      },
      "execution_count": 6,
      "outputs": [
        {
          "output_type": "execute_result",
          "data": {
            "text/plain": [
              "<title>Example Domain</title>"
            ]
          },
          "metadata": {},
          "execution_count": 6
        }
      ]
    },
    {
      "cell_type": "markdown",
      "source": [
        "`# head 가져오기`"
      ],
      "metadata": {
        "id": "LpXfs2lrYxtY"
      }
    },
    {
      "cell_type": "code",
      "source": [
        "soup.head"
      ],
      "metadata": {
        "id": "sZwBbWz-2IT0",
        "colab": {
          "base_uri": "https://localhost:8080/"
        },
        "outputId": "f704adc3-152c-4537-a3d5-275282660bb8"
      },
      "execution_count": 7,
      "outputs": [
        {
          "output_type": "execute_result",
          "data": {
            "text/plain": [
              "<head>\n",
              "<title>Example Domain</title>\n",
              "<meta charset=\"utf-8\"/>\n",
              "<meta content=\"text/html; charset=utf-8\" http-equiv=\"Content-type\"/>\n",
              "<meta content=\"width=device-width, initial-scale=1\" name=\"viewport\"/>\n",
              "<style type=\"text/css\">\n",
              "    body {\n",
              "        background-color: #f0f0f2;\n",
              "        margin: 0;\n",
              "        padding: 0;\n",
              "        font-family: -apple-system, system-ui, BlinkMacSystemFont, \"Segoe UI\", \"Open Sans\", \"Helvetica Neue\", Helvetica, Arial, sans-serif;\n",
              "        \n",
              "    }\n",
              "    div {\n",
              "        width: 600px;\n",
              "        margin: 5em auto;\n",
              "        padding: 2em;\n",
              "        background-color: #fdfdff;\n",
              "        border-radius: 0.5em;\n",
              "        box-shadow: 2px 3px 7px 2px rgba(0,0,0,0.02);\n",
              "    }\n",
              "    a:link, a:visited {\n",
              "        color: #38488f;\n",
              "        text-decoration: none;\n",
              "    }\n",
              "    @media (max-width: 700px) {\n",
              "        div {\n",
              "            margin: 0 auto;\n",
              "            width: auto;\n",
              "        }\n",
              "    }\n",
              "    </style>\n",
              "</head>"
            ]
          },
          "metadata": {},
          "execution_count": 7
        }
      ]
    },
    {
      "cell_type": "markdown",
      "source": [
        "`# body 가져오기`\n"
      ],
      "metadata": {
        "id": "drfu83kgY2Vo"
      }
    },
    {
      "cell_type": "code",
      "source": [
        "soup.body()"
      ],
      "metadata": {
        "id": "WfEgj_9R2hzy",
        "colab": {
          "base_uri": "https://localhost:8080/"
        },
        "outputId": "66c91481-5e33-4591-c28a-e1d00be7f63f"
      },
      "execution_count": 8,
      "outputs": [
        {
          "output_type": "execute_result",
          "data": {
            "text/plain": [
              "[<div>\n",
              " <h1>Example Domain</h1>\n",
              " <p>This domain is for use in illustrative examples in documents. You may use this\n",
              "     domain in literature without prior coordination or asking for permission.</p>\n",
              " <p><a href=\"https://www.iana.org/domains/example\">More information...</a></p>\n",
              " </div>,\n",
              " <h1>Example Domain</h1>,\n",
              " <p>This domain is for use in illustrative examples in documents. You may use this\n",
              "     domain in literature without prior coordination or asking for permission.</p>,\n",
              " <p><a href=\"https://www.iana.org/domains/example\">More information...</a></p>,\n",
              " <a href=\"https://www.iana.org/domains/example\">More information...</a>]"
            ]
          },
          "metadata": {},
          "execution_count": 8
        }
      ]
    },
    {
      "cell_type": "markdown",
      "source": [
        "`# <h1> 태그로 감싸진 요소 하나 찾기`"
      ],
      "metadata": {
        "id": "0en40f8yY4i8"
      }
    },
    {
      "cell_type": "code",
      "source": [
        "h1 = soup.find(\"h1\")"
      ],
      "metadata": {
        "id": "_n_qtbb42mdA"
      },
      "execution_count": 9,
      "outputs": []
    },
    {
      "cell_type": "markdown",
      "source": [
        "만약 태그를 많이 가지고오고싶다면 어떻게 해야할까요?"
      ],
      "metadata": {
        "id": "jn_lDOii23IP"
      }
    },
    {
      "cell_type": "markdown",
      "source": [
        "`# <p> 태그로 감싸진 요소들 찾기`\n"
      ],
      "metadata": {
        "id": "92jHx_VHY8yg"
      }
    },
    {
      "cell_type": "code",
      "source": [
        "soup.find_all(\"p\")"
      ],
      "metadata": {
        "id": "UQuC4CQL22ji",
        "colab": {
          "base_uri": "https://localhost:8080/"
        },
        "outputId": "41c95c28-c083-4931-8fa0-2e698a82a5d1"
      },
      "execution_count": 10,
      "outputs": [
        {
          "output_type": "execute_result",
          "data": {
            "text/plain": [
              "[<p>This domain is for use in illustrative examples in documents. You may use this\n",
              "     domain in literature without prior coordination or asking for permission.</p>,\n",
              " <p><a href=\"https://www.iana.org/domains/example\">More information...</a></p>]"
            ]
          },
          "metadata": {},
          "execution_count": 10
        }
      ]
    },
    {
      "cell_type": "markdown",
      "source": [
        "`# 태그 이름 가져오기`\n",
        "\n"
      ],
      "metadata": {
        "id": "P0X92_7QZCMb"
      }
    },
    {
      "cell_type": "code",
      "source": [
        "h1.name"
      ],
      "metadata": {
        "id": "PAzqrJnQ2-Io",
        "colab": {
          "base_uri": "https://localhost:8080/",
          "height": 35
        },
        "outputId": "cc36fcf8-96a5-4098-aff0-679d078e4e01"
      },
      "execution_count": 11,
      "outputs": [
        {
          "output_type": "execute_result",
          "data": {
            "text/plain": [
              "'h1'"
            ],
            "application/vnd.google.colaboratory.intrinsic+json": {
              "type": "string"
            }
          },
          "metadata": {},
          "execution_count": 11
        }
      ]
    },
    {
      "cell_type": "markdown",
      "source": [
        "`# 태그 내용 가져오기`"
      ],
      "metadata": {
        "id": "haL9Ao3_ZKR0"
      }
    },
    {
      "cell_type": "code",
      "source": [
        "h1.text"
      ],
      "metadata": {
        "id": "9baet2IV3VRh",
        "colab": {
          "base_uri": "https://localhost:8080/",
          "height": 35
        },
        "outputId": "95f1c91b-6abc-40f0-93ed-81bfb0eb2e97"
      },
      "execution_count": 12,
      "outputs": [
        {
          "output_type": "execute_result",
          "data": {
            "text/plain": [
              "'Example Domain'"
            ],
            "application/vnd.google.colaboratory.intrinsic+json": {
              "type": "string"
            }
          },
          "metadata": {},
          "execution_count": 12
        }
      ]
    }
  ]
}